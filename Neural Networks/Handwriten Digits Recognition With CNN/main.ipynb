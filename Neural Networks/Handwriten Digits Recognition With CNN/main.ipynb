{
 "cells": [
  {
   "cell_type": "code",
   "execution_count": 1,
   "id": "6680fde5-09b8-4087-a49e-811c4d54c47e",
   "metadata": {},
   "outputs": [],
   "source": [
    "import cv2\n",
    "import numpy as np\n",
    "import matplotlib.pyplot as plt\n",
    "import tensorflow as tf"
   ]
  },
  {
   "cell_type": "code",
   "execution_count": 2,
   "id": "28c730a4-3ffa-4bd9-ab7c-75075dd523d5",
   "metadata": {},
   "outputs": [],
   "source": [
    "mnist = tf.keras.datasets.mnist"
   ]
  },
  {
   "cell_type": "code",
   "execution_count": 3,
   "id": "febd9bfc-531a-48b8-885a-71e87adafe0f",
   "metadata": {},
   "outputs": [],
   "source": [
    "(x_train, y_train), (x_test, y_test) = mnist.load_data()"
   ]
  },
  {
   "cell_type": "code",
   "execution_count": 4,
   "id": "ede23a87-fddb-4501-9462-e7efe924eb1e",
   "metadata": {},
   "outputs": [],
   "source": [
    "x_train = tf.keras.utils.normalize(x_train, axis=1)\n",
    "x_test = tf.keras.utils.normalize(x_test, axis=1)"
   ]
  },
  {
   "cell_type": "markdown",
   "id": "aa29b13a-fbab-4959-810f-83c1d0eee768",
   "metadata": {},
   "source": [
    "# Creating the model"
   ]
  },
  {
   "cell_type": "code",
   "execution_count": 5,
   "id": "dd91e6e3-1934-4bfb-b076-9421e6945f33",
   "metadata": {},
   "outputs": [],
   "source": [
    "model = tf.keras.Sequential()\n",
    "\n",
    "model.add( tf.keras.layers.Conv2D(28, (2, 2), activation='relu', input_shape=(28, 28, 1)) )\n",
    "model.add( tf.keras.layers.MaxPooling2D((1, 1)) )\n",
    "\n",
    "model.add( tf.keras.layers.Conv2D(28, (2, 2), activation='relu') )\n",
    "model.add( tf.keras.layers.MaxPooling2D((1, 1)) )\n",
    "\n",
    "model.add( tf.keras.layers.Flatten() )\n",
    "model.add(tf.keras.layers.Dense(10, activation=\"softmax\"))"
   ]
  },
  {
   "cell_type": "code",
   "execution_count": 6,
   "id": "4221dccb-244f-4608-ac86-6c82c7653b56",
   "metadata": {},
   "outputs": [],
   "source": [
    "model.compile(optimizer=\"adam\", loss=\"sparse_categorical_crossentropy\", metrics=[\"accuracy\"])"
   ]
  },
  {
   "cell_type": "code",
   "execution_count": 7,
   "id": "25327041-81a6-4e95-836a-0290b1ac1ead",
   "metadata": {
    "scrolled": true
   },
   "outputs": [
    {
     "name": "stdout",
     "output_type": "stream",
     "text": [
      "Epoch 1/10\n",
      "1875/1875 [==============================] - 75s 39ms/step - loss: 0.2058 - accuracy: 0.9404\n",
      "Epoch 2/10\n",
      "1875/1875 [==============================] - 75s 40ms/step - loss: 0.0756 - accuracy: 0.9765\n",
      "Epoch 3/10\n",
      "1875/1875 [==============================] - 75s 40ms/step - loss: 0.0532 - accuracy: 0.9837\n",
      "Epoch 4/10\n",
      "1875/1875 [==============================] - 74s 39ms/step - loss: 0.0395 - accuracy: 0.9875\n",
      "Epoch 5/10\n",
      "1875/1875 [==============================] - 72s 38ms/step - loss: 0.0274 - accuracy: 0.9911\n",
      "Epoch 6/10\n",
      "1875/1875 [==============================] - 74s 39ms/step - loss: 0.0190 - accuracy: 0.9935\n",
      "Epoch 7/10\n",
      "1875/1875 [==============================] - 74s 39ms/step - loss: 0.0136 - accuracy: 0.9957\n",
      "Epoch 8/10\n",
      "1875/1875 [==============================] - 74s 39ms/step - loss: 0.0094 - accuracy: 0.9971\n",
      "Epoch 9/10\n",
      "1875/1875 [==============================] - 77s 41ms/step - loss: 0.0063 - accuracy: 0.9981\n",
      "Epoch 10/10\n",
      "1875/1875 [==============================] - 77s 41ms/step - loss: 0.0062 - accuracy: 0.9980\n"
     ]
    },
    {
     "data": {
      "text/plain": [
       "<keras.callbacks.History at 0x1af85b7f990>"
      ]
     },
     "execution_count": 7,
     "metadata": {},
     "output_type": "execute_result"
    }
   ],
   "source": [
    "model.fit(x_train, y_train, epochs=10)"
   ]
  },
  {
   "cell_type": "code",
   "execution_count": 8,
   "id": "121ba90f-737b-497d-9da6-9f6740c60ae4",
   "metadata": {},
   "outputs": [
    {
     "name": "stdout",
     "output_type": "stream",
     "text": [
      "313/313 [==============================] - 4s 11ms/step - loss: 0.1059 - accuracy: 0.9791\n",
      "0.9790999889373779 0.10594123601913452\n"
     ]
    }
   ],
   "source": [
    "loss, accuracy = model.evaluate(x_test, y_test)\n",
    "print(accuracy, loss)"
   ]
  },
  {
   "cell_type": "code",
   "execution_count": 26,
   "id": "c0de31d8-c081-4b88-87ec-654cd2d86da9",
   "metadata": {
    "scrolled": true
   },
   "outputs": [
    {
     "name": "stdout",
     "output_type": "stream",
     "text": [
      "1/1 [==============================] - 0s 40ms/step\n",
      "Right answer is 0, and the predicted answer is 2 with 72.232% \n",
      "It guessed 0 with a confidence of 0.119%\n",
      "\n",
      "1/1 [==============================] - 0s 38ms/step\n",
      "Right answer is 1, and the predicted answer is 6 with 94.249% \n",
      "It guessed 1 with a confidence of 5.751%\n",
      "\n",
      "1/1 [==============================] - 0s 28ms/step\n",
      "Right answer is 2, and the predicted answer is 2 with 100.000% \n",
      "\n",
      "1/1 [==============================] - 0s 30ms/step\n",
      "Right answer is 3, and the predicted answer is 3 with 100.000% \n",
      "\n",
      "1/1 [==============================] - 0s 33ms/step\n",
      "Right answer is 4, and the predicted answer is 8 with 95.755% \n",
      "It guessed 4 with a confidence of 3.151%\n",
      "\n",
      "1/1 [==============================] - 0s 39ms/step\n",
      "Right answer is 5, and the predicted answer is 5 with 99.999% \n",
      "\n",
      "1/1 [==============================] - 0s 43ms/step\n",
      "Right answer is 6, and the predicted answer is 6 with 99.998% \n",
      "\n",
      "1/1 [==============================] - 0s 41ms/step\n",
      "Right answer is 7, and the predicted answer is 1 with 100.000% \n",
      "It guessed 7 with a confidence of 0.000%\n",
      "\n",
      "1/1 [==============================] - 0s 44ms/step\n",
      "Right answer is 8, and the predicted answer is 8 with 91.278% \n",
      "\n",
      "1/1 [==============================] - 0s 45ms/step\n",
      "Right answer is 9, and the predicted answer is 2 with 99.491% \n",
      "It guessed 9 with a confidence of 0.000%\n",
      "\n"
     ]
    }
   ],
   "source": [
    "right_ans = 0\n",
    "\n",
    "for i in range(10):\n",
    "    img = cv2.imread(f\"./Digits/digit{i}.png\")[:,:,0]\n",
    "    img = np.invert(np.array([img]))\n",
    "    img = tf.keras.utils.normalize(img)\n",
    "    prediction = model.predict(img)\n",
    "    \n",
    "    print(f\"Right answer is {i}, and the predicted answer is {np.argmax(prediction)} with {prediction[0][np.argmax(prediction)]*100 :.3f}% \")\n",
    "\n",
    "    if i == np.argmax(prediction):\n",
    "        right_ans += 1\n",
    "    else:\n",
    "        print(f\"It guessed {i} with a confidence of {prediction[0][i] * 100 :.3f}%\")\n",
    "\n",
    "    print()"
   ]
  },
  {
   "cell_type": "code",
   "execution_count": 10,
   "id": "33309ffe-a19c-4fd1-8450-fe05a68b7e0b",
   "metadata": {},
   "outputs": [
    {
     "data": {
      "text/plain": [
       "0.5"
      ]
     },
     "execution_count": 10,
     "metadata": {},
     "output_type": "execute_result"
    }
   ],
   "source": [
    "right_ans / 10"
   ]
  }
 ],
 "metadata": {
  "kernelspec": {
   "display_name": "Python 3 (ipykernel)",
   "language": "python",
   "name": "python3"
  },
  "language_info": {
   "codemirror_mode": {
    "name": "ipython",
    "version": 3
   },
   "file_extension": ".py",
   "mimetype": "text/x-python",
   "name": "python",
   "nbconvert_exporter": "python",
   "pygments_lexer": "ipython3",
   "version": "3.11.3"
  }
 },
 "nbformat": 4,
 "nbformat_minor": 5
}
