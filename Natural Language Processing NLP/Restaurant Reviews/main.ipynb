{
 "cells": [
  {
   "cell_type": "code",
   "execution_count": 1,
   "id": "5c592811-d7dc-467c-aff3-fdf8f178dbf7",
   "metadata": {},
   "outputs": [
    {
     "name": "stdout",
     "output_type": "stream",
     "text": [
      "CPU times: total: 4.59 s\n",
      "Wall time: 6.56 s\n"
     ]
    }
   ],
   "source": [
    "%%time\n",
    "import matplotlib.pyplot as plt\n",
    "import pandas as pd\n",
    "import numpy as np\n",
    "import seaborn as sns\n",
    "\n",
    "import tensorflow as tf"
   ]
  },
  {
   "cell_type": "code",
   "execution_count": 2,
   "id": "beb11894-9f75-4c50-9eed-bc140b73f8b3",
   "metadata": {},
   "outputs": [
    {
     "data": {
      "text/html": [
       "<div>\n",
       "<style scoped>\n",
       "    .dataframe tbody tr th:only-of-type {\n",
       "        vertical-align: middle;\n",
       "    }\n",
       "\n",
       "    .dataframe tbody tr th {\n",
       "        vertical-align: top;\n",
       "    }\n",
       "\n",
       "    .dataframe thead th {\n",
       "        text-align: right;\n",
       "    }\n",
       "</style>\n",
       "<table border=\"1\" class=\"dataframe\">\n",
       "  <thead>\n",
       "    <tr style=\"text-align: right;\">\n",
       "      <th></th>\n",
       "      <th>Restaurant</th>\n",
       "      <th>Reviewer</th>\n",
       "      <th>Review</th>\n",
       "      <th>Rating</th>\n",
       "      <th>Metadata</th>\n",
       "      <th>Time</th>\n",
       "      <th>Pictures</th>\n",
       "      <th>7514</th>\n",
       "    </tr>\n",
       "  </thead>\n",
       "  <tbody>\n",
       "    <tr>\n",
       "      <th>0</th>\n",
       "      <td>Beyond Flavours</td>\n",
       "      <td>Rusha Chakraborty</td>\n",
       "      <td>The ambience was good, food was quite good . h...</td>\n",
       "      <td>5</td>\n",
       "      <td>1 Review , 2 Followers</td>\n",
       "      <td>5/25/2019 15:54</td>\n",
       "      <td>0</td>\n",
       "      <td>2447.0</td>\n",
       "    </tr>\n",
       "    <tr>\n",
       "      <th>1</th>\n",
       "      <td>Beyond Flavours</td>\n",
       "      <td>Anusha Tirumalaneedi</td>\n",
       "      <td>Ambience is too good for a pleasant evening. S...</td>\n",
       "      <td>5</td>\n",
       "      <td>3 Reviews , 2 Followers</td>\n",
       "      <td>5/25/2019 14:20</td>\n",
       "      <td>0</td>\n",
       "      <td>NaN</td>\n",
       "    </tr>\n",
       "    <tr>\n",
       "      <th>2</th>\n",
       "      <td>Beyond Flavours</td>\n",
       "      <td>Ashok Shekhawat</td>\n",
       "      <td>A must try.. great food great ambience. Thnx f...</td>\n",
       "      <td>5</td>\n",
       "      <td>2 Reviews , 3 Followers</td>\n",
       "      <td>5/24/2019 22:54</td>\n",
       "      <td>0</td>\n",
       "      <td>NaN</td>\n",
       "    </tr>\n",
       "    <tr>\n",
       "      <th>3</th>\n",
       "      <td>Beyond Flavours</td>\n",
       "      <td>Swapnil Sarkar</td>\n",
       "      <td>Soumen das and Arun was a great guy. Only beca...</td>\n",
       "      <td>5</td>\n",
       "      <td>1 Review , 1 Follower</td>\n",
       "      <td>5/24/2019 22:11</td>\n",
       "      <td>0</td>\n",
       "      <td>NaN</td>\n",
       "    </tr>\n",
       "    <tr>\n",
       "      <th>4</th>\n",
       "      <td>Beyond Flavours</td>\n",
       "      <td>Dileep</td>\n",
       "      <td>Food is good.we ordered Kodi drumsticks and ba...</td>\n",
       "      <td>5</td>\n",
       "      <td>3 Reviews , 2 Followers</td>\n",
       "      <td>5/24/2019 21:37</td>\n",
       "      <td>0</td>\n",
       "      <td>NaN</td>\n",
       "    </tr>\n",
       "  </tbody>\n",
       "</table>\n",
       "</div>"
      ],
      "text/plain": [
       "        Restaurant              Reviewer  \\\n",
       "0  Beyond Flavours     Rusha Chakraborty   \n",
       "1  Beyond Flavours  Anusha Tirumalaneedi   \n",
       "2  Beyond Flavours       Ashok Shekhawat   \n",
       "3  Beyond Flavours        Swapnil Sarkar   \n",
       "4  Beyond Flavours                Dileep   \n",
       "\n",
       "                                              Review Rating  \\\n",
       "0  The ambience was good, food was quite good . h...      5   \n",
       "1  Ambience is too good for a pleasant evening. S...      5   \n",
       "2  A must try.. great food great ambience. Thnx f...      5   \n",
       "3  Soumen das and Arun was a great guy. Only beca...      5   \n",
       "4  Food is good.we ordered Kodi drumsticks and ba...      5   \n",
       "\n",
       "                  Metadata             Time  Pictures    7514  \n",
       "0   1 Review , 2 Followers  5/25/2019 15:54         0  2447.0  \n",
       "1  3 Reviews , 2 Followers  5/25/2019 14:20         0     NaN  \n",
       "2  2 Reviews , 3 Followers  5/24/2019 22:54         0     NaN  \n",
       "3    1 Review , 1 Follower  5/24/2019 22:11         0     NaN  \n",
       "4  3 Reviews , 2 Followers  5/24/2019 21:37         0     NaN  "
      ]
     },
     "execution_count": 2,
     "metadata": {},
     "output_type": "execute_result"
    }
   ],
   "source": [
    "df = pd.read_csv(\"Restaurant reviews.csv\")\n",
    "df.head()"
   ]
  },
  {
   "cell_type": "code",
   "execution_count": 3,
   "id": "6646cb2c-6a2a-4110-9902-2bf17f28687c",
   "metadata": {},
   "outputs": [
    {
     "data": {
      "text/html": [
       "<div>\n",
       "<style scoped>\n",
       "    .dataframe tbody tr th:only-of-type {\n",
       "        vertical-align: middle;\n",
       "    }\n",
       "\n",
       "    .dataframe tbody tr th {\n",
       "        vertical-align: top;\n",
       "    }\n",
       "\n",
       "    .dataframe thead th {\n",
       "        text-align: right;\n",
       "    }\n",
       "</style>\n",
       "<table border=\"1\" class=\"dataframe\">\n",
       "  <thead>\n",
       "    <tr style=\"text-align: right;\">\n",
       "      <th></th>\n",
       "      <th>Review</th>\n",
       "      <th>Rating</th>\n",
       "    </tr>\n",
       "  </thead>\n",
       "  <tbody>\n",
       "    <tr>\n",
       "      <th>0</th>\n",
       "      <td>The ambience was good, food was quite good . h...</td>\n",
       "      <td>5</td>\n",
       "    </tr>\n",
       "    <tr>\n",
       "      <th>1</th>\n",
       "      <td>Ambience is too good for a pleasant evening. S...</td>\n",
       "      <td>5</td>\n",
       "    </tr>\n",
       "    <tr>\n",
       "      <th>2</th>\n",
       "      <td>A must try.. great food great ambience. Thnx f...</td>\n",
       "      <td>5</td>\n",
       "    </tr>\n",
       "    <tr>\n",
       "      <th>3</th>\n",
       "      <td>Soumen das and Arun was a great guy. Only beca...</td>\n",
       "      <td>5</td>\n",
       "    </tr>\n",
       "    <tr>\n",
       "      <th>4</th>\n",
       "      <td>Food is good.we ordered Kodi drumsticks and ba...</td>\n",
       "      <td>5</td>\n",
       "    </tr>\n",
       "  </tbody>\n",
       "</table>\n",
       "</div>"
      ],
      "text/plain": [
       "                                              Review Rating\n",
       "0  The ambience was good, food was quite good . h...      5\n",
       "1  Ambience is too good for a pleasant evening. S...      5\n",
       "2  A must try.. great food great ambience. Thnx f...      5\n",
       "3  Soumen das and Arun was a great guy. Only beca...      5\n",
       "4  Food is good.we ordered Kodi drumsticks and ba...      5"
      ]
     },
     "execution_count": 3,
     "metadata": {},
     "output_type": "execute_result"
    }
   ],
   "source": [
    "df = df.drop([\"Restaurant\", \"Reviewer\", \"Metadata\", \"Time\", \"Pictures\", \"7514\"], axis=1)\n",
    "df.head()"
   ]
  },
  {
   "cell_type": "code",
   "execution_count": 4,
   "id": "450909ef-5ecc-43ff-92a0-8651e787f365",
   "metadata": {},
   "outputs": [
    {
     "data": {
      "text/plain": [
       "array(['5', '4', '1', '3', '2', '3.5', '4.5', '2.5', '1.5', 'Like', nan],\n",
       "      dtype=object)"
      ]
     },
     "execution_count": 4,
     "metadata": {},
     "output_type": "execute_result"
    }
   ],
   "source": [
    "df[\"Rating\"].unique()"
   ]
  },
  {
   "cell_type": "code",
   "execution_count": 5,
   "id": "e4d5df6e-7f0f-4cf6-b2b1-b85666a63c08",
   "metadata": {},
   "outputs": [],
   "source": [
    "df[\"Rating\"] = df[\"Rating\"][df[\"Rating\"] != \"Like\"].astype(float)\n",
    "df[\"Sentiment\"] = df[\"Rating\"].apply(lambda x: 1 if x >= 3 else 0)"
   ]
  },
  {
   "cell_type": "code",
   "execution_count": 6,
   "id": "1d1abba1-bd40-46ca-b00a-bfd5ffd66340",
   "metadata": {},
   "outputs": [
    {
     "name": "stdout",
     "output_type": "stream",
     "text": [
      "<class 'pandas.core.frame.DataFrame'>\n",
      "Index: 9954 entries, 0 to 9999\n",
      "Data columns (total 3 columns):\n",
      " #   Column     Non-Null Count  Dtype  \n",
      "---  ------     --------------  -----  \n",
      " 0   Review     9954 non-null   object \n",
      " 1   Rating     9954 non-null   float64\n",
      " 2   Sentiment  9954 non-null   int64  \n",
      "dtypes: float64(1), int64(1), object(1)\n",
      "memory usage: 311.1+ KB\n"
     ]
    }
   ],
   "source": [
    "df.dropna(inplace=True)\n",
    "df.info()"
   ]
  },
  {
   "cell_type": "markdown",
   "id": "9d639196-1124-433e-bebe-7ac8a3ad9559",
   "metadata": {},
   "source": [
    "# Tokenizer"
   ]
  },
  {
   "cell_type": "code",
   "execution_count": 7,
   "id": "8fc550e2-69fa-4c9e-aec7-69d2e9005374",
   "metadata": {},
   "outputs": [],
   "source": [
    "from tensorflow.keras.preprocessing.text import Tokenizer\n",
    "\n",
    "tokenizer = Tokenizer(num_words=8_000, oov_token=\"<OOV>\")\n",
    "\n",
    "tokenizer.fit_on_texts(df[\"Review\"])"
   ]
  },
  {
   "cell_type": "markdown",
   "id": "b4cfff71-53aa-4048-8e47-ac0317dc348f",
   "metadata": {},
   "source": [
    "# Truncating The Data"
   ]
  },
  {
   "cell_type": "code",
   "execution_count": 8,
   "id": "94db55ae-00b5-4b4a-9adc-0f8bdc01c314",
   "metadata": {},
   "outputs": [],
   "source": [
    "previous_shape = df.shape"
   ]
  },
  {
   "cell_type": "code",
   "execution_count": 9,
   "id": "e79cb795-0f2a-4983-88c4-3c9ee70279a3",
   "metadata": {},
   "outputs": [],
   "source": [
    "lengths = list(map(lambda x: len(x.split(\" \")), df[\"Review\"]))"
   ]
  },
  {
   "cell_type": "code",
   "execution_count": 10,
   "id": "7a972137-6b1a-4068-8243-92eb2f705731",
   "metadata": {
    "scrolled": true
   },
   "outputs": [
    {
     "data": {
      "image/png": "[encoded data removed]",
      "text/plain": [
       "<Figure size 640x480 with 1 Axes>"
      ]
     },
     "metadata": {},
     "output_type": "display_data"
    }
   ],
   "source": [
    "plt.hist( lengths, bins=len(set(lengths))//10 )\n",
    "plt.show()"
   ]
  },
  {
   "cell_type": "code",
   "execution_count": 11,
   "id": "09090b5f-7c3f-4826-969a-c98539346b87",
   "metadata": {},
   "outputs": [],
   "source": [
    "max_len = 100"
   ]
  },
  {
   "cell_type": "code",
   "execution_count": 12,
   "id": "3de8f712-02ae-491b-b345-0a15767b6360",
   "metadata": {},
   "outputs": [],
   "source": [
    "df = df[df['Review'].apply(lambda x: len(x.split(\" \")) <= max_len)].reset_index(drop=True)"
   ]
  },
  {
   "cell_type": "code",
   "execution_count": 13,
   "id": "ccc0f18a-f6f6-47f0-8f84-769d22860804",
   "metadata": {},
   "outputs": [],
   "source": [
    "lengths = list(map(lambda x: len(x.split(\" \")), df[\"Review\"]))"
   ]
  },
  {
   "cell_type": "code",
   "execution_count": 14,
   "id": "68d48c64-c0d6-4be6-a294-194ff6f6b48d",
   "metadata": {},
   "outputs": [
    {
     "data": {
      "image/png": "[encoded data removed]",
      "text/plain": [
       "<Figure size 640x480 with 1 Axes>"
      ]
     },
     "metadata": {},
     "output_type": "display_data"
    }
   ],
   "source": [
    "plt.hist( lengths, bins=len(set(lengths))//10 )\n",
    "plt.show()"
   ]
  },
  {
   "cell_type": "code",
   "execution_count": 15,
   "id": "31372a76-8890-450d-8661-e2447a4e45b9",
   "metadata": {},
   "outputs": [
    {
     "data": {
      "text/plain": [
       "((8966, 3), (9954, 3))"
      ]
     },
     "execution_count": 15,
     "metadata": {},
     "output_type": "execute_result"
    }
   ],
   "source": [
    "# About 1000 were dropped\n",
    "df.shape, previous_shape"
   ]
  },
  {
   "cell_type": "markdown",
   "id": "7cefb213-e64f-4d60-b4c2-6fe64b0f27a2",
   "metadata": {},
   "source": [
    "# Padding The Data"
   ]
  },
  {
   "cell_type": "code",
   "execution_count": 16,
   "id": "ff9b2ec1-8704-4b0b-abe9-8b75d9e1a7c6",
   "metadata": {},
   "outputs": [],
   "source": [
    "from tensorflow.keras.preprocessing.sequence import pad_sequences\n",
    "\n",
    "def get_sequence(tokenizer, data):\n",
    "    sequences = tokenizer.texts_to_sequences(data)\n",
    "    \n",
    "    padded = pad_sequences(sequences,\n",
    "                          padding=\"post\",\n",
    "                          maxlen=max_len)\n",
    "    return padded"
   ]
  },
  {
   "cell_type": "code",
   "execution_count": 17,
   "id": "2d960fa1-87e2-445c-aa71-29f42ee5c743",
   "metadata": {},
   "outputs": [],
   "source": [
    "sequences = get_sequence(tokenizer, df[\"Review\"])"
   ]
  },
  {
   "cell_type": "markdown",
   "id": "d663ea2a-bd60-4c7a-9c9a-d9f13a3df48f",
   "metadata": {},
   "source": [
    "# Splitting The Data"
   ]
  },
  {
   "cell_type": "code",
   "execution_count": 18,
   "id": "c1458041-80b7-4999-a927-34e7274fc627",
   "metadata": {},
   "outputs": [],
   "source": [
    "from sklearn.model_selection import train_test_split\n",
    "\n",
    "X = sequences\n",
    "y = df[\"Sentiment\"]\n",
    "\n",
    "x_train, x_test, y_train, y_test = train_test_split(X, y, test_size=0.2)"
   ]
  },
  {
   "cell_type": "code",
   "execution_count": 19,
   "id": "2214f92a-9f34-4dfb-82de-eb26f75d6bbb",
   "metadata": {},
   "outputs": [
    {
     "name": "stdout",
     "output_type": "stream",
     "text": [
      "(7172, 100) (7172,)\n",
      "(1794, 100) (1794,)\n"
     ]
    }
   ],
   "source": [
    "print(x_train.shape, y_train.shape)\n",
    "print(x_test.shape, y_test.shape)"
   ]
  },
  {
   "cell_type": "markdown",
   "id": "ba5a4aa4-4b8a-429c-a5e7-f32d676b0343",
   "metadata": {},
   "source": [
    "# Creating The Model"
   ]
  },
  {
   "cell_type": "code",
   "execution_count": 20,
   "id": "15fac61a-4584-4bc5-b48d-d6bb83e4e2c8",
   "metadata": {},
   "outputs": [],
   "source": [
    "model = tf.keras.models.Sequential([\n",
    "    tf.keras.layers.Embedding(8_000, 64, input_length=max_len),\n",
    "    tf.keras.layers.Bidirectional(tf.keras.layers.LSTM(32, return_sequences=True, dropout=0.1)),\n",
    "    tf.keras.layers.Bidirectional(tf.keras.layers.LSTM(32, dropout=0.1)),\n",
    "    tf.keras.layers.Dense(2, activation=\"softmax\")\n",
    "])"
   ]
  },
  {
   "cell_type": "code",
   "execution_count": 21,
   "id": "d9a4ac59-4480-4600-8f92-b835d88164ba",
   "metadata": {},
   "outputs": [],
   "source": [
    "model.compile(\n",
    "    optimizer=\"adam\",\n",
    "    loss=     \"sparse_categorical_crossentropy\",\n",
    "    metrics=[\"accuracy\"]\n",
    ")"
   ]
  },
  {
   "cell_type": "code",
   "execution_count": 22,
   "id": "fa0e4045-8fea-4968-8e75-8c3d33887e0f",
   "metadata": {},
   "outputs": [
    {
     "name": "stdout",
     "output_type": "stream",
     "text": [
      "Model: \"sequential\"\n",
      "_________________________________________________________________\n",
      " Layer (type)                Output Shape              Param #   \n",
      "=================================================================\n",
      " embedding (Embedding)       (None, 100, 64)           512000    \n",
      "                                                                 \n",
      " bidirectional (Bidirection  (None, 100, 64)           24832     \n",
      " al)                                                             \n",
      "                                                                 \n",
      " bidirectional_1 (Bidirecti  (None, 64)                24832     \n",
      " onal)                                                           \n",
      "                                                                 \n",
      " dense (Dense)               (None, 2)                 130       \n",
      "                                                                 \n",
      "=================================================================\n",
      "Total params: 561794 (2.14 MB)\n",
      "Trainable params: 561794 (2.14 MB)\n",
      "Non-trainable params: 0 (0.00 Byte)\n",
      "_________________________________________________________________\n"
     ]
    }
   ],
   "source": [
    "model.summary()"
   ]
  },
  {
   "cell_type": "markdown",
   "id": "428105eb-2232-46e3-8802-251900b0d395",
   "metadata": {},
   "source": [
    "# Running The model"
   ]
  },
  {
   "cell_type": "code",
   "execution_count": 23,
   "id": "6241bcf0-c00d-4102-85a9-9717aec91fd3",
   "metadata": {},
   "outputs": [
    {
     "name": "stdout",
     "output_type": "stream",
     "text": [
      "Epoch 1/10\n",
      "225/225 [==============================] - 50s 165ms/step - loss: 0.3612 - accuracy: 0.8429 - val_loss: 0.2337 - val_accuracy: 0.9047\n",
      "Epoch 2/10\n",
      "225/225 [==============================] - 34s 151ms/step - loss: 0.1564 - accuracy: 0.9424 - val_loss: 0.1924 - val_accuracy: 0.9370\n",
      "Epoch 3/10\n",
      "225/225 [==============================] - 34s 149ms/step - loss: 0.1004 - accuracy: 0.9628 - val_loss: 0.2131 - val_accuracy: 0.9281\n",
      "Epoch 4/10\n",
      "225/225 [==============================] - 34s 152ms/step - loss: 0.0802 - accuracy: 0.9727 - val_loss: 0.2510 - val_accuracy: 0.9264\n",
      "Epoch 5/10\n",
      "225/225 [==============================] - 36s 158ms/step - loss: 0.0563 - accuracy: 0.9810 - val_loss: 0.3113 - val_accuracy: 0.9192\n"
     ]
    }
   ],
   "source": [
    "history = model.fit(\n",
    "    x_train, y_train,\n",
    "    validation_data=(x_test, y_test),\n",
    "    epochs=10,\n",
    "    callbacks=[\n",
    "        tf.keras.callbacks.EarlyStopping(monitor=\"val_accuracy\", patience=3)\n",
    "    ]\n",
    ")"
   ]
  },
  {
   "cell_type": "code",
   "execution_count": 24,
   "id": "da2532d5-04ec-4bbc-96ba-a9c775698594",
   "metadata": {},
   "outputs": [],
   "source": [
    "def plot_training_history(history):\n",
    "    # Extract training history\n",
    "    loss = history.history['loss']\n",
    "    accuracy = history.history['accuracy']\n",
    "    val_loss = history.history['val_loss']\n",
    "    val_accuracy = history.history['val_accuracy']\n",
    "\n",
    "    # Create subplots\n",
    "    fig, axes = plt.subplots(nrows=1, ncols=2, figsize=(12, 4))\n",
    "\n",
    "    # Plot training and validation loss\n",
    "    axes[0].plot(loss, label='Training Loss')\n",
    "    axes[0].plot(val_loss, label='Validation Loss')\n",
    "    axes[0].set_title('Training and Validation Loss')\n",
    "    axes[0].set_xlabel('Epoch')\n",
    "    axes[0].set_ylabel('Loss')\n",
    "    axes[0].legend()\n",
    "\n",
    "    # Plot training and validation accuracy\n",
    "    axes[1].plot(accuracy, label='Training Accuracy')\n",
    "    axes[1].plot(val_accuracy, label='Validation Accuracy')\n",
    "    axes[1].set_title('Training and Validation Accuracy')\n",
    "    axes[1].set_xlabel('Epoch')\n",
    "    axes[1].set_ylabel('Accuracy')\n",
    "    axes[1].legend()\n",
    "\n",
    "    # Display the plots\n",
    "    plt.tight_layout()\n",
    "    plt.show()"
   ]
  },
  {
   "cell_type": "code",
   "execution_count": 25,
   "id": "f62085d8-42d5-49a1-ab5b-f564a2dc7fcc",
   "metadata": {},
   "outputs": [
    {
     "data": {
      "image/png": "[encoded data removed]",
      "text/plain": [
       "<Figure size 1200x400 with 2 Axes>"
      ]
     },
     "metadata": {},
     "output_type": "display_data"
    }
   ],
   "source": [
    "plot_training_history(history)"
   ]
  },
  {
   "cell_type": "markdown",
   "id": "ce2aba6c-62a3-4fb3-b881-949e06b47bf3",
   "metadata": {},
   "source": [
    "# Show Performance"
   ]
  },
  {
   "cell_type": "code",
   "execution_count": 26,
   "id": "067a8c60-32a2-4571-b932-4d662f9f90af",
   "metadata": {},
   "outputs": [],
   "source": [
    "from sklearn.metrics import confusion_matrix\n",
    "\n",
    "def show_confusion_matrix(true_labels, preds, classes):\n",
    "    # Create the confusion matrix\n",
    "    cm = confusion_matrix(true_labels, preds, normalize=\"true\")\n",
    "    \n",
    "    plt.figure(figsize=(8, 8))\n",
    "\n",
    "    sp = plt.subplot(1, 1, 1)\n",
    "    ctx = sp.matshow(cm)\n",
    "\n",
    "    plt.xticks( range(0, len(classes)), labels=classes )\n",
    "    plt.yticks( range(0, len(classes)), labels=classes )\n",
    "\n",
    "    plt.colorbar(ctx)\n",
    "    plt.show()"
   ]
  },
  {
   "cell_type": "code",
   "execution_count": 27,
   "id": "72fdfc9d-118b-4029-9f41-aa517e7fd949",
   "metadata": {},
   "outputs": [
    {
     "name": "stdout",
     "output_type": "stream",
     "text": [
      "57/57 [==============================] - 5s 40ms/step\n"
     ]
    }
   ],
   "source": [
    "preds = model.predict( x_test )"
   ]
  },
  {
   "cell_type": "code",
   "execution_count": 28,
   "id": "b8d48470-3c7e-4325-bda8-ee67d9a239d5",
   "metadata": {},
   "outputs": [
    {
     "data": {
      "image/png": "[encoded data removed]",
      "text/plain": [
       "<Figure size 800x800 with 2 Axes>"
      ]
     },
     "metadata": {},
     "output_type": "display_data"
    }
   ],
   "source": [
    "show_confusion_matrix(y_test, preds.argmax(axis=-1), [\"Positive\", \"Negative\"])"
   ]
  },
  {
   "cell_type": "code",
   "execution_count": null,
   "id": "a0383da7-bf40-483e-b599-e1cc908e4ffb",
   "metadata": {},
   "outputs": [],
   "source": []
  }
 ],
 "metadata": {
  "kernelspec": {
   "display_name": "MachineLearning",
   "language": "python",
   "name": "machinelearning"
  },
  "language_info": {
   "codemirror_mode": {
    "name": "ipython",
    "version": 3
   },
   "file_extension": ".py",
   "mimetype": "text/x-python",
   "name": "python",
   "nbconvert_exporter": "python",
   "pygments_lexer": "ipython3",
   "version": "3.11.3"
  }
 },
 "nbformat": 4,
 "nbformat_minor": 5
}
