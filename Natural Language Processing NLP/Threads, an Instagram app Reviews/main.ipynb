{
 "cells": [
  {
   "cell_type": "code",
   "execution_count": 1,
   "id": "25d41ea8-6e9d-4af9-a6f5-838bd098bc95",
   "metadata": {},
   "outputs": [
    {
     "name": "stdout",
     "output_type": "stream",
     "text": [
      "CPU times: total: 4.42 s\n",
      "Wall time: 10.5 s\n"
     ]
    }
   ],
   "source": [
    "%%time\n",
    "import matplotlib.pyplot as plt\n",
    "import seaborn as sns\n",
    "import pandas as pd\n",
    "import numpy as np\n",
    "\n",
    "import tensorflow as tf"
   ]
  },
  {
   "cell_type": "code",
   "execution_count": 2,
   "id": "4311ddcd-628c-45a6-bc51-4c713249dcf7",
   "metadata": {},
   "outputs": [
    {
     "data": {
      "text/html": [
       "<div>\n",
       "<style scoped>\n",
       "    .dataframe tbody tr th:only-of-type {\n",
       "        vertical-align: middle;\n",
       "    }\n",
       "\n",
       "    .dataframe tbody tr th {\n",
       "        vertical-align: top;\n",
       "    }\n",
       "\n",
       "    .dataframe thead th {\n",
       "        text-align: right;\n",
       "    }\n",
       "</style>\n",
       "<table border=\"1\" class=\"dataframe\">\n",
       "  <thead>\n",
       "    <tr style=\"text-align: right;\">\n",
       "      <th></th>\n",
       "      <th>source</th>\n",
       "      <th>review_description</th>\n",
       "      <th>rating</th>\n",
       "      <th>review_date</th>\n",
       "    </tr>\n",
       "  </thead>\n",
       "  <tbody>\n",
       "    <tr>\n",
       "      <th>0</th>\n",
       "      <td>Google Play</td>\n",
       "      <td>Meh. Not the greatest experience on a Chromebo...</td>\n",
       "      <td>2</td>\n",
       "      <td>2023-07-08 14:18:24</td>\n",
       "    </tr>\n",
       "    <tr>\n",
       "      <th>1</th>\n",
       "      <td>Google Play</td>\n",
       "      <td>Pretty good for a first launch!! Its easy to u...</td>\n",
       "      <td>3</td>\n",
       "      <td>2023-07-19 20:52:48</td>\n",
       "    </tr>\n",
       "    <tr>\n",
       "      <th>2</th>\n",
       "      <td>Google Play</td>\n",
       "      <td>For a brand new app, it's very well optimized....</td>\n",
       "      <td>3</td>\n",
       "      <td>2023-07-06 23:03:11</td>\n",
       "    </tr>\n",
       "    <tr>\n",
       "      <th>3</th>\n",
       "      <td>Google Play</td>\n",
       "      <td>Great app with a lot of potential! However, th...</td>\n",
       "      <td>3</td>\n",
       "      <td>2023-07-10 00:53:25</td>\n",
       "    </tr>\n",
       "    <tr>\n",
       "      <th>4</th>\n",
       "      <td>Google Play</td>\n",
       "      <td>The app is good, but it needs a lot of functio...</td>\n",
       "      <td>3</td>\n",
       "      <td>2023-07-06 16:57:43</td>\n",
       "    </tr>\n",
       "  </tbody>\n",
       "</table>\n",
       "</div>"
      ],
      "text/plain": [
       "        source                                 review_description  rating  \\\n",
       "0  Google Play  Meh. Not the greatest experience on a Chromebo...       2   \n",
       "1  Google Play  Pretty good for a first launch!! Its easy to u...       3   \n",
       "2  Google Play  For a brand new app, it's very well optimized....       3   \n",
       "3  Google Play  Great app with a lot of potential! However, th...       3   \n",
       "4  Google Play  The app is good, but it needs a lot of functio...       3   \n",
       "\n",
       "           review_date  \n",
       "0  2023-07-08 14:18:24  \n",
       "1  2023-07-19 20:52:48  \n",
       "2  2023-07-06 23:03:11  \n",
       "3  2023-07-10 00:53:25  \n",
       "4  2023-07-06 16:57:43  "
      ]
     },
     "execution_count": 2,
     "metadata": {},
     "output_type": "execute_result"
    }
   ],
   "source": [
    "df = pd.read_csv(\"threads_reviews.csv\")\n",
    "df.head()"
   ]
  },
  {
   "cell_type": "code",
   "execution_count": 3,
   "id": "282ab5a8-f3bc-4d13-b017-4bcf53785a78",
   "metadata": {},
   "outputs": [],
   "source": [
    "df = df.drop([\"source\", \"review_date\"], axis=1).rename(columns={\"review_description\": \"review\"})"
   ]
  },
  {
   "cell_type": "code",
   "execution_count": 4,
   "id": "87a89e72-9531-4f06-8a71-621e2cd4e487",
   "metadata": {},
   "outputs": [],
   "source": [
    "df[\"rating\"] = df[\"rating\"]"
   ]
  },
  {
   "cell_type": "code",
   "execution_count": 5,
   "id": "089b651c-6a28-4e45-9c8a-ab17615940cc",
   "metadata": {},
   "outputs": [
    {
     "name": "stdout",
     "output_type": "stream",
     "text": [
      "<class 'pandas.core.frame.DataFrame'>\n",
      "RangeIndex: 32910 entries, 0 to 32909\n",
      "Data columns (total 2 columns):\n",
      " #   Column  Non-Null Count  Dtype \n",
      "---  ------  --------------  ----- \n",
      " 0   review  32910 non-null  object\n",
      " 1   rating  32910 non-null  int64 \n",
      "dtypes: int64(1), object(1)\n",
      "memory usage: 514.3+ KB\n"
     ]
    }
   ],
   "source": [
    "df.info()"
   ]
  },
  {
   "cell_type": "markdown",
   "id": "40ef1825-38e4-4570-9538-39b5b61eb102",
   "metadata": {},
   "source": [
    "# Exploratory Data Anylysis"
   ]
  },
  {
   "cell_type": "code",
   "execution_count": 6,
   "id": "d942dcd8-7c3c-439e-9b81-7efe04758e58",
   "metadata": {},
   "outputs": [],
   "source": [
    "max_len = 50"
   ]
  },
  {
   "cell_type": "code",
   "execution_count": 7,
   "id": "c44c94b7-944e-4424-b86d-eb5ce4e053b5",
   "metadata": {},
   "outputs": [
    {
     "data": {
      "image/png": "[encoded data removed]",
      "text/plain": [
       "<Figure size 640x480 with 1 Axes>"
      ]
     },
     "metadata": {},
     "output_type": "display_data"
    }
   ],
   "source": [
    "plt.hist(df.rating)\n",
    "\n",
    "plt.xlabel(\"Rating\")\n",
    "plt.ylabel(\"Occurence\")\n",
    "plt.title(\"Number Of Occurence Of Rating\")\n",
    "\n",
    "plt.show()"
   ]
  },
  {
   "cell_type": "code",
   "execution_count": 8,
   "id": "e0c044b0-ef5f-450f-a747-b33203d7d76a",
   "metadata": {},
   "outputs": [
    {
     "name": "stdout",
     "output_type": "stream",
     "text": [
      "Meh. Not the greatest experience on a Chromebook. Seems to be customized for phones only. Opens in a little screen that you can't expand or resize - for reasons that are a complete mystery to me. Judging from the fact that every other app I know of is resizeable, this seems like it was a conscious choice by the developers . Why you'd do something like this is beyond understanding and suggests a control freak approach. Not a great way to make a first impression.\n",
      "2\n"
     ]
    }
   ],
   "source": [
    "print(df[\"review\"][0])\n",
    "print(df[\"rating\"][0])"
   ]
  },
  {
   "cell_type": "code",
   "execution_count": 9,
   "id": "e4d5a318-5efc-43eb-b99c-b78574c256d6",
   "metadata": {},
   "outputs": [],
   "source": [
    "lengths = np.array( list(map(lambda x: len(x.split(\" \")), df[\"review\"])) )"
   ]
  },
  {
   "cell_type": "code",
   "execution_count": 10,
   "id": "f61335d4-3f2b-4a04-9787-f9d339fc7a09",
   "metadata": {},
   "outputs": [
    {
     "data": {
      "text/plain": [
       "998"
      ]
     },
     "execution_count": 10,
     "metadata": {},
     "output_type": "execute_result"
    }
   ],
   "source": [
    "max(lengths)"
   ]
  },
  {
   "cell_type": "code",
   "execution_count": 11,
   "id": "23dbd08f-e705-4aaa-8da3-ce8b4376cdff",
   "metadata": {},
   "outputs": [
    {
     "data": {
      "image/png": "[encoded data removed]",
      "text/plain": [
       "<Figure size 640x480 with 1 Axes>"
      ]
     },
     "metadata": {},
     "output_type": "display_data"
    }
   ],
   "source": [
    "plt.hist(lengths, bins=100)\n",
    "plt.show()"
   ]
  },
  {
   "cell_type": "code",
   "execution_count": 12,
   "id": "1b6e5d05-26f5-4e0a-9ef7-f82fddf81b29",
   "metadata": {},
   "outputs": [],
   "source": [
    "df = df[lengths <= max_len]"
   ]
  },
  {
   "cell_type": "code",
   "execution_count": 13,
   "id": "869e224a-8dd9-4361-8c77-086dead6ce45",
   "metadata": {},
   "outputs": [],
   "source": [
    "lengths = np.array( list(map(lambda x: len(x.split(\" \")), df[\"review\"])) )"
   ]
  },
  {
   "cell_type": "code",
   "execution_count": 14,
   "id": "1ba70194-0d48-4ab6-8e94-10a210d24be8",
   "metadata": {},
   "outputs": [
    {
     "data": {
      "image/png": "[encoded data removed]",
      "text/plain": [
       "<Figure size 640x480 with 1 Axes>"
      ]
     },
     "metadata": {},
     "output_type": "display_data"
    }
   ],
   "source": [
    "plt.hist(lengths, bins=100)\n",
    "plt.show()"
   ]
  },
  {
   "cell_type": "markdown",
   "id": "262f5d40-e00a-4313-8d76-f930a15b7e85",
   "metadata": {},
   "source": [
    "# Tokenize The Data"
   ]
  },
  {
   "cell_type": "code",
   "execution_count": 15,
   "id": "2a80b492-3f6a-49c4-bc70-6efa8e715325",
   "metadata": {},
   "outputs": [],
   "source": [
    "from tensorflow.keras.preprocessing.text import Tokenizer\n",
    "\n",
    "tokenizer = Tokenizer(5_000, oov_token=\"<OOV>\")\n",
    "\n",
    "tokenizer.fit_on_texts(df[\"review\"])"
   ]
  },
  {
   "cell_type": "markdown",
   "id": "d1fee7b6-6603-4a72-af1a-ea06c320a874",
   "metadata": {},
   "source": [
    "# Padding The Data"
   ]
  },
  {
   "cell_type": "code",
   "execution_count": 16,
   "id": "39b9b831-dbab-4f7e-ac21-d2af6b600b05",
   "metadata": {},
   "outputs": [],
   "source": [
    "from tensorflow.keras.preprocessing.sequence import pad_sequences\n",
    "\n",
    "def get_sequence(tokenizer, data):\n",
    "    sequence = tokenizer.texts_to_sequences(data)\n",
    "    padded = pad_sequences(sequence,\n",
    "                          padding=\"post\",\n",
    "                          maxlen=max_len)\n",
    "    return padded"
   ]
  },
  {
   "cell_type": "markdown",
   "id": "49c03987-f3f8-4880-8ad1-360602c3d486",
   "metadata": {},
   "source": [
    "# Splitting The Data"
   ]
  },
  {
   "cell_type": "code",
   "execution_count": 17,
   "id": "0cc44cd6-d859-4885-8509-d6ef685f87a7",
   "metadata": {},
   "outputs": [],
   "source": [
    "from sklearn.model_selection import train_test_split\n",
    "\n",
    "X = get_sequence(tokenizer, df[\"review\"])\n",
    "y = np.array(df[\"rating\"]) - 1\n",
    "\n",
    "x_train, x_test, y_train, y_test = train_test_split(X, y, test_size=0.2)"
   ]
  },
  {
   "cell_type": "code",
   "execution_count": 18,
   "id": "00cea7ed-9474-40d2-8f2e-2cb6bf59b443",
   "metadata": {},
   "outputs": [
    {
     "name": "stdout",
     "output_type": "stream",
     "text": [
      "(25179, 50) (25179,)\n",
      "(6295, 50) (6295,)\n"
     ]
    }
   ],
   "source": [
    "print(x_train.shape, y_train.shape)\n",
    "print(x_test.shape, y_test.shape)"
   ]
  },
  {
   "cell_type": "markdown",
   "id": "5a32f2e0-b648-412b-bf85-388880cc3cf1",
   "metadata": {},
   "source": [
    "# Creating The Model"
   ]
  },
  {
   "cell_type": "code",
   "execution_count": 19,
   "id": "ca48c29b-e78c-4273-baa0-eb42012d814e",
   "metadata": {},
   "outputs": [],
   "source": [
    "model = tf.keras.models.Sequential([\n",
    "    tf.keras.layers.Embedding(5_000, 32, input_length=max_len),\n",
    "    tf.keras.layers.Bidirectional(tf.keras.layers.LSTM(32, return_sequences=True)),\n",
    "    tf.keras.layers.Bidirectional(tf.keras.layers.LSTM(32)),\n",
    "    tf.keras.layers.Dense(5, activation=\"softmax\")\n",
    "])"
   ]
  },
  {
   "cell_type": "code",
   "execution_count": 20,
   "id": "cd1b56b3-8e7d-4c9b-adc7-14a3d1bf8278",
   "metadata": {},
   "outputs": [],
   "source": [
    "model.compile(\n",
    "    optimizer=\"adam\",\n",
    "    loss=\"sparse_categorical_crossentropy\",\n",
    "    metrics=[\"accuracy\"]\n",
    ")"
   ]
  },
  {
   "cell_type": "code",
   "execution_count": 21,
   "id": "85bc2f55-941c-432d-8754-d9d8bbc61e46",
   "metadata": {},
   "outputs": [
    {
     "name": "stdout",
     "output_type": "stream",
     "text": [
      "Model: \"sequential\"\n",
      "_________________________________________________________________\n",
      " Layer (type)                Output Shape              Param #   \n",
      "=================================================================\n",
      " embedding (Embedding)       (None, 50, 32)            160000    \n",
      "                                                                 \n",
      " bidirectional (Bidirection  (None, 50, 64)            16640     \n",
      " al)                                                             \n",
      "                                                                 \n",
      " bidirectional_1 (Bidirecti  (None, 64)                24832     \n",
      " onal)                                                           \n",
      "                                                                 \n",
      " dense (Dense)               (None, 5)                 325       \n",
      "                                                                 \n",
      "=================================================================\n",
      "Total params: 201797 (788.27 KB)\n",
      "Trainable params: 201797 (788.27 KB)\n",
      "Non-trainable params: 0 (0.00 Byte)\n",
      "_________________________________________________________________\n"
     ]
    }
   ],
   "source": [
    "model.summary()"
   ]
  },
  {
   "cell_type": "markdown",
   "id": "2cea991a-1017-4972-b3f5-8457c1f29e29",
   "metadata": {},
   "source": [
    "# Training The Model"
   ]
  },
  {
   "cell_type": "code",
   "execution_count": 22,
   "id": "4e3a6bf2-78a4-418a-b314-0fe95a4a42b6",
   "metadata": {},
   "outputs": [
    {
     "name": "stdout",
     "output_type": "stream",
     "text": [
      "Epoch 1/20\n",
      "787/787 [==============================] - 87s 90ms/step - loss: 0.9746 - accuracy: 0.6626 - val_loss: 0.8849 - val_accuracy: 0.6988\n",
      "Epoch 2/20\n",
      "787/787 [==============================] - 61s 77ms/step - loss: 0.8218 - accuracy: 0.7234 - val_loss: 0.8779 - val_accuracy: 0.7041\n",
      "Epoch 3/20\n",
      "787/787 [==============================] - 59s 75ms/step - loss: 0.7720 - accuracy: 0.7417 - val_loss: 0.8810 - val_accuracy: 0.6982\n",
      "Epoch 4/20\n",
      "787/787 [==============================] - 57s 72ms/step - loss: 0.7399 - accuracy: 0.7505 - val_loss: 0.8910 - val_accuracy: 0.6983\n",
      "Epoch 5/20\n",
      "787/787 [==============================] - 58s 74ms/step - loss: 0.7061 - accuracy: 0.7625 - val_loss: 0.9137 - val_accuracy: 0.6893\n"
     ]
    },
    {
     "data": {
      "text/plain": [
       "<keras.src.callbacks.History at 0x2ba2cd42250>"
      ]
     },
     "execution_count": 22,
     "metadata": {},
     "output_type": "execute_result"
    }
   ],
   "source": [
    "model.fit(\n",
    "    x_train, y_train,\n",
    "    validation_data=(x_test, y_test),\n",
    "    epochs=20,\n",
    "    callbacks=[\n",
    "        tf.keras.callbacks.EarlyStopping(monitor=\"val_accuracy\", patience=3)\n",
    "    ]\n",
    ")"
   ]
  },
  {
   "cell_type": "markdown",
   "id": "13b2d0d9-74f2-417f-84a8-489b8893875e",
   "metadata": {},
   "source": [
    "# Saving The Model"
   ]
  },
  {
   "cell_type": "code",
   "execution_count": 24,
   "id": "a082fb4b-885a-489e-95e7-1eeeb720a9ce",
   "metadata": {},
   "outputs": [],
   "source": [
    "model.save_weights(\"model/model\")"
   ]
  }
 ],
 "metadata": {
  "kernelspec": {
   "display_name": "MachineLearning",
   "language": "python",
   "name": "machinelearning"
  },
  "language_info": {
   "codemirror_mode": {
    "name": "ipython",
    "version": 3
   },
   "file_extension": ".py",
   "mimetype": "text/x-python",
   "name": "python",
   "nbconvert_exporter": "python",
   "pygments_lexer": "ipython3",
   "version": "3.11.3"
  }
 },
 "nbformat": 4,
 "nbformat_minor": 5
}
