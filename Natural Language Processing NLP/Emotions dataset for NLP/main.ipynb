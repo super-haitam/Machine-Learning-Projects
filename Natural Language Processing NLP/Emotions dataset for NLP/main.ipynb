{
 "cells": [
  {
   "cell_type": "code",
   "execution_count": 1,
   "id": "466a8d0b-2372-4e2b-9f59-c650176e698e",
   "metadata": {},
   "outputs": [
    {
     "name": "stdout",
     "output_type": "stream",
     "text": [
      "CPU times: total: 5.67 s\n",
      "Wall time: 26.8 s\n"
     ]
    }
   ],
   "source": [
    "%%time\n",
    "import numpy as np\n",
    "import pandas as pd\n",
    "import matplotlib.pyplot as plt\n",
    "import seaborn as sns\n",
    "\n",
    "import tensorflow as tf"
   ]
  },
  {
   "cell_type": "markdown",
   "id": "d589c99b-043b-446e-bd6e-36a7d9efcfda",
   "metadata": {},
   "source": [
    "# Getting The Data"
   ]
  },
  {
   "cell_type": "code",
   "execution_count": 2,
   "id": "e0730c42-7e22-4987-bbdf-1b2dbff6bf69",
   "metadata": {},
   "outputs": [],
   "source": [
    "def get_df_from_txtfile(path: str) -> pd.DataFrame:\n",
    "    tweets = []\n",
    "    labels = []\n",
    "    \n",
    "    with open(path, 'r') as f:\n",
    "        lines = f.readlines()\n",
    "\n",
    "    for line in lines:\n",
    "        tweet = line.split(\";\")[0]\n",
    "        label = line.split(\";\")[1][:-1]\n",
    "\n",
    "        tweets.append(tweet)\n",
    "        labels.append(label)\n",
    "        \n",
    "    return pd.DataFrame( {\"Tweet\": tweets, \"Emotion\": labels} )"
   ]
  },
  {
   "cell_type": "code",
   "execution_count": 3,
   "id": "2f85f491-1e3d-4dbf-9b75-3ecbb34f98c4",
   "metadata": {},
   "outputs": [],
   "source": [
    "train_df = get_df_from_txtfile(\"data/train.txt\")\n",
    "val_df = get_df_from_txtfile(\"data/val.txt\")\n",
    "test_df = get_df_from_txtfile(\"data/test.txt\")"
   ]
  },
  {
   "cell_type": "code",
   "execution_count": 4,
   "id": "fb041a57-46a7-4142-9733-87740bd99e5e",
   "metadata": {},
   "outputs": [
    {
     "name": "stdout",
     "output_type": "stream",
     "text": [
      "(16000, 2)\n"
     ]
    },
    {
     "data": {
      "text/html": [
       "<div>\n",
       "<style scoped>\n",
       "    .dataframe tbody tr th:only-of-type {\n",
       "        vertical-align: middle;\n",
       "    }\n",
       "\n",
       "    .dataframe tbody tr th {\n",
       "        vertical-align: top;\n",
       "    }\n",
       "\n",
       "    .dataframe thead th {\n",
       "        text-align: right;\n",
       "    }\n",
       "</style>\n",
       "<table border=\"1\" class=\"dataframe\">\n",
       "  <thead>\n",
       "    <tr style=\"text-align: right;\">\n",
       "      <th></th>\n",
       "      <th>Tweet</th>\n",
       "      <th>Emotion</th>\n",
       "    </tr>\n",
       "  </thead>\n",
       "  <tbody>\n",
       "    <tr>\n",
       "      <th>0</th>\n",
       "      <td>i didnt feel humiliated</td>\n",
       "      <td>sadness</td>\n",
       "    </tr>\n",
       "    <tr>\n",
       "      <th>1</th>\n",
       "      <td>i can go from feeling so hopeless to so damned...</td>\n",
       "      <td>sadness</td>\n",
       "    </tr>\n",
       "    <tr>\n",
       "      <th>2</th>\n",
       "      <td>im grabbing a minute to post i feel greedy wrong</td>\n",
       "      <td>anger</td>\n",
       "    </tr>\n",
       "    <tr>\n",
       "      <th>3</th>\n",
       "      <td>i am ever feeling nostalgic about the fireplac...</td>\n",
       "      <td>love</td>\n",
       "    </tr>\n",
       "    <tr>\n",
       "      <th>4</th>\n",
       "      <td>i am feeling grouchy</td>\n",
       "      <td>anger</td>\n",
       "    </tr>\n",
       "  </tbody>\n",
       "</table>\n",
       "</div>"
      ],
      "text/plain": [
       "                                               Tweet  Emotion\n",
       "0                            i didnt feel humiliated  sadness\n",
       "1  i can go from feeling so hopeless to so damned...  sadness\n",
       "2   im grabbing a minute to post i feel greedy wrong    anger\n",
       "3  i am ever feeling nostalgic about the fireplac...     love\n",
       "4                               i am feeling grouchy    anger"
      ]
     },
     "execution_count": 4,
     "metadata": {},
     "output_type": "execute_result"
    }
   ],
   "source": [
    "print(train_df.shape)\n",
    "train_df.head()"
   ]
  },
  {
   "cell_type": "code",
   "execution_count": 5,
   "id": "10036e05-3999-4cbb-8ae4-043eaa08c549",
   "metadata": {},
   "outputs": [
    {
     "name": "stdout",
     "output_type": "stream",
     "text": [
      "(2000, 2)\n"
     ]
    },
    {
     "data": {
      "text/html": [
       "<div>\n",
       "<style scoped>\n",
       "    .dataframe tbody tr th:only-of-type {\n",
       "        vertical-align: middle;\n",
       "    }\n",
       "\n",
       "    .dataframe tbody tr th {\n",
       "        vertical-align: top;\n",
       "    }\n",
       "\n",
       "    .dataframe thead th {\n",
       "        text-align: right;\n",
       "    }\n",
       "</style>\n",
       "<table border=\"1\" class=\"dataframe\">\n",
       "  <thead>\n",
       "    <tr style=\"text-align: right;\">\n",
       "      <th></th>\n",
       "      <th>Tweet</th>\n",
       "      <th>Emotion</th>\n",
       "    </tr>\n",
       "  </thead>\n",
       "  <tbody>\n",
       "    <tr>\n",
       "      <th>0</th>\n",
       "      <td>im feeling quite sad and sorry for myself but ...</td>\n",
       "      <td>sadness</td>\n",
       "    </tr>\n",
       "    <tr>\n",
       "      <th>1</th>\n",
       "      <td>i feel like i am still looking at a blank canv...</td>\n",
       "      <td>sadness</td>\n",
       "    </tr>\n",
       "    <tr>\n",
       "      <th>2</th>\n",
       "      <td>i feel like a faithful servant</td>\n",
       "      <td>love</td>\n",
       "    </tr>\n",
       "    <tr>\n",
       "      <th>3</th>\n",
       "      <td>i am just feeling cranky and blue</td>\n",
       "      <td>anger</td>\n",
       "    </tr>\n",
       "    <tr>\n",
       "      <th>4</th>\n",
       "      <td>i can have for a treat or if i am feeling festive</td>\n",
       "      <td>joy</td>\n",
       "    </tr>\n",
       "  </tbody>\n",
       "</table>\n",
       "</div>"
      ],
      "text/plain": [
       "                                               Tweet  Emotion\n",
       "0  im feeling quite sad and sorry for myself but ...  sadness\n",
       "1  i feel like i am still looking at a blank canv...  sadness\n",
       "2                     i feel like a faithful servant     love\n",
       "3                  i am just feeling cranky and blue    anger\n",
       "4  i can have for a treat or if i am feeling festive      joy"
      ]
     },
     "execution_count": 5,
     "metadata": {},
     "output_type": "execute_result"
    }
   ],
   "source": [
    "print(val_df.shape)\n",
    "val_df.head()"
   ]
  },
  {
   "cell_type": "code",
   "execution_count": 6,
   "id": "32ffb1de-9639-4b90-b16a-2ae46f94d553",
   "metadata": {},
   "outputs": [
    {
     "name": "stdout",
     "output_type": "stream",
     "text": [
      "(2000, 2)\n"
     ]
    },
    {
     "data": {
      "text/html": [
       "<div>\n",
       "<style scoped>\n",
       "    .dataframe tbody tr th:only-of-type {\n",
       "        vertical-align: middle;\n",
       "    }\n",
       "\n",
       "    .dataframe tbody tr th {\n",
       "        vertical-align: top;\n",
       "    }\n",
       "\n",
       "    .dataframe thead th {\n",
       "        text-align: right;\n",
       "    }\n",
       "</style>\n",
       "<table border=\"1\" class=\"dataframe\">\n",
       "  <thead>\n",
       "    <tr style=\"text-align: right;\">\n",
       "      <th></th>\n",
       "      <th>Tweet</th>\n",
       "      <th>Emotion</th>\n",
       "    </tr>\n",
       "  </thead>\n",
       "  <tbody>\n",
       "    <tr>\n",
       "      <th>0</th>\n",
       "      <td>im feeling rather rotten so im not very ambiti...</td>\n",
       "      <td>sadness</td>\n",
       "    </tr>\n",
       "    <tr>\n",
       "      <th>1</th>\n",
       "      <td>im updating my blog because i feel shitty</td>\n",
       "      <td>sadness</td>\n",
       "    </tr>\n",
       "    <tr>\n",
       "      <th>2</th>\n",
       "      <td>i never make her separate from me because i do...</td>\n",
       "      <td>sadness</td>\n",
       "    </tr>\n",
       "    <tr>\n",
       "      <th>3</th>\n",
       "      <td>i left with my bouquet of red and yellow tulip...</td>\n",
       "      <td>joy</td>\n",
       "    </tr>\n",
       "    <tr>\n",
       "      <th>4</th>\n",
       "      <td>i was feeling a little vain when i did this one</td>\n",
       "      <td>sadness</td>\n",
       "    </tr>\n",
       "  </tbody>\n",
       "</table>\n",
       "</div>"
      ],
      "text/plain": [
       "                                               Tweet  Emotion\n",
       "0  im feeling rather rotten so im not very ambiti...  sadness\n",
       "1          im updating my blog because i feel shitty  sadness\n",
       "2  i never make her separate from me because i do...  sadness\n",
       "3  i left with my bouquet of red and yellow tulip...      joy\n",
       "4    i was feeling a little vain when i did this one  sadness"
      ]
     },
     "execution_count": 6,
     "metadata": {},
     "output_type": "execute_result"
    }
   ],
   "source": [
    "print(test_df.shape)\n",
    "test_df.head()"
   ]
  },
  {
   "cell_type": "markdown",
   "id": "668ce300-4ce7-4cae-89aa-fd7318a9a5ef",
   "metadata": {},
   "source": [
    "# Visualize Data"
   ]
  },
  {
   "cell_type": "code",
   "execution_count": 7,
   "id": "73d406cd-56ea-4081-86c1-ea0d108c1ec5",
   "metadata": {},
   "outputs": [
    {
     "data": {
      "image/png": "[encoded data removed]",
      "text/plain": [
       "<Figure size 640x480 with 1 Axes>"
      ]
     },
     "metadata": {},
     "output_type": "display_data"
    }
   ],
   "source": [
    "plt.hist(train_df[\"Emotion\"])\n",
    "\n",
    "plt.ylabel(\"Num. Occurences\")\n",
    "plt.title(\"Emotions\")\n",
    "\n",
    "plt.show()"
   ]
  },
  {
   "cell_type": "markdown",
   "id": "4a311a0c-eaa8-43d4-b6f3-e404e79b8d4e",
   "metadata": {},
   "source": [
    "# Tokenize Data"
   ]
  },
  {
   "cell_type": "code",
   "execution_count": 8,
   "id": "37ad6976-349d-405d-ab02-0b7e6d0b74b1",
   "metadata": {},
   "outputs": [],
   "source": [
    "from tensorflow.keras.preprocessing.text import Tokenizer\n",
    "\n",
    "tokenizer = Tokenizer(num_words=10_000, oov_token=\"<UNK>\")\n",
    "\n",
    "tokenizer.fit_on_texts(train_df[\"Tweet\"])"
   ]
  },
  {
   "cell_type": "code",
   "execution_count": 9,
   "id": "58813333-ce96-4d12-a5ab-377cf8fb77c1",
   "metadata": {},
   "outputs": [
    {
     "name": "stdout",
     "output_type": "stream",
     "text": [
      "i didnt feel humiliated\n"
     ]
    },
    {
     "data": {
      "text/plain": [
       "[[2, 139, 3, 679]]"
      ]
     },
     "execution_count": 9,
     "metadata": {},
     "output_type": "execute_result"
    }
   ],
   "source": [
    "print(train_df[\"Tweet\"][0])\n",
    "tokenizer.texts_to_sequences([train_df[\"Tweet\"][0]])"
   ]
  },
  {
   "cell_type": "markdown",
   "id": "92f6096b-0cdb-422c-b9ce-f1d065f3f259",
   "metadata": {},
   "source": [
    "# Padding And Truncating"
   ]
  },
  {
   "cell_type": "code",
   "execution_count": 10,
   "id": "33590304-ae5b-481b-b376-bceda88b6202",
   "metadata": {},
   "outputs": [
    {
     "data": {
      "image/png": "[encoded data removed]",
      "text/plain": [
       "<Figure size 640x480 with 1 Axes>"
      ]
     },
     "metadata": {},
     "output_type": "display_data"
    }
   ],
   "source": [
    "# Get lengths of tweets\n",
    "lengths = [len(train_df[\"Tweet\"][i].split(\" \")) for i in range(len(train_df))]\n",
    "\n",
    "plt.hist(lengths, bins=len(set(lengths)))\n",
    "plt.show()"
   ]
  },
  {
   "cell_type": "code",
   "execution_count": 11,
   "id": "7f9f1beb-f044-4095-b426-a54c71c3a736",
   "metadata": {},
   "outputs": [],
   "source": [
    "from tensorflow.keras.preprocessing.sequence import pad_sequences\n",
    "\n",
    "max_len = 50\n",
    "\n",
    "def get_sequence(tokenizer, tweets):\n",
    "    sequences = tokenizer.texts_to_sequences(tweets)\n",
    "    padded = pad_sequences(sequences, truncating=\"post\", padding=\"post\", maxlen=max_len)\n",
    "    return padded"
   ]
  },
  {
   "cell_type": "code",
   "execution_count": 12,
   "id": "22352e42-a44f-4ab1-a40a-c81e6c1275c9",
   "metadata": {},
   "outputs": [],
   "source": [
    "train_seq = get_sequence(tokenizer, train_df[\"Tweet\"])\n",
    "val_seq = get_sequence(tokenizer, val_df[\"Tweet\"])\n",
    "test_seq = get_sequence(tokenizer, test_df[\"Tweet\"])"
   ]
  },
  {
   "cell_type": "code",
   "execution_count": 13,
   "id": "0748d831-42a9-4fb4-aee1-0b84269e8205",
   "metadata": {},
   "outputs": [
    {
     "name": "stdout",
     "output_type": "stream",
     "text": [
      "i didnt feel humiliated\n"
     ]
    },
    {
     "data": {
      "text/plain": [
       "array([  2, 139,   3, 679,   0,   0,   0,   0,   0,   0,   0,   0,   0,\n",
       "         0,   0,   0,   0,   0,   0,   0,   0,   0,   0,   0,   0,   0,\n",
       "         0,   0,   0,   0,   0,   0,   0,   0,   0,   0,   0,   0,   0,\n",
       "         0,   0,   0,   0,   0,   0,   0,   0,   0,   0,   0])"
      ]
     },
     "execution_count": 13,
     "metadata": {},
     "output_type": "execute_result"
    }
   ],
   "source": [
    "print(train_df[\"Tweet\"][0])\n",
    "train_seq[0]"
   ]
  },
  {
   "cell_type": "markdown",
   "id": "771a6725-8117-4142-8fda-9ed0be560230",
   "metadata": {},
   "source": [
    "# Make Words Into Numbers"
   ]
  },
  {
   "cell_type": "code",
   "execution_count": 14,
   "id": "a47c616b-9e98-4b3a-86ac-18b776b40b91",
   "metadata": {},
   "outputs": [
    {
     "data": {
      "text/plain": [
       "{'sadness': 0, 'love': 1, 'joy': 2, 'anger': 3, 'fear': 4, 'surprise': 5}"
      ]
     },
     "execution_count": 14,
     "metadata": {},
     "output_type": "execute_result"
    }
   ],
   "source": [
    "emotion_to_num = {emotion: i for (i, emotion) in enumerate(set(train_df[\"Emotion\"]))}\n",
    "emotion_to_num"
   ]
  },
  {
   "cell_type": "code",
   "execution_count": 48,
   "id": "0c9f95c1-aefd-4f07-b3a2-275595f55c4a",
   "metadata": {},
   "outputs": [
    {
     "data": {
      "text/plain": [
       "{0: 'sadness', 1: 'love', 2: 'joy', 3: 'anger', 4: 'fear', 5: 'surprise'}"
      ]
     },
     "execution_count": 48,
     "metadata": {},
     "output_type": "execute_result"
    }
   ],
   "source": [
    "num_to_emotion = {i: emotion for (emotion, i) in emotion_to_num.items()}\n",
    "num_to_emotion"
   ]
  },
  {
   "cell_type": "code",
   "execution_count": 15,
   "id": "a7f39f0a-58fe-4fc2-9ce1-45c56bce2eb4",
   "metadata": {},
   "outputs": [],
   "source": [
    "train_df[\"Label\"] = list(map(lambda emotion: emotion_to_num[emotion], train_df[\"Emotion\"]))\n",
    "val_df[\"Label\"] = list(map(lambda emotion: emotion_to_num[emotion], val_df[\"Emotion\"]))\n",
    "test_df[\"Label\"] = list(map(lambda emotion: emotion_to_num[emotion], test_df[\"Emotion\"]))"
   ]
  },
  {
   "cell_type": "markdown",
   "id": "a2aaeca3-3de4-48db-b4a0-d90220f7a4bb",
   "metadata": {},
   "source": [
    "# Creating The Model"
   ]
  },
  {
   "cell_type": "code",
   "execution_count": 16,
   "id": "b50d20fa-114b-41ef-b4c3-d270118ee7fe",
   "metadata": {},
   "outputs": [],
   "source": [
    "model = tf.keras.models.Sequential([\n",
    "    tf.keras.layers.Embedding(10_000, 32, input_length=max_len),\n",
    "    tf.keras.layers.Bidirectional(tf.keras.layers.LSTM(20, return_sequences=True)),\n",
    "    tf.keras.layers.Bidirectional(tf.keras.layers.LSTM(20)),\n",
    "    tf.keras.layers.Dense(len(set(train_df[\"Emotion\"])), activation=\"softmax\")\n",
    "])"
   ]
  },
  {
   "cell_type": "code",
   "execution_count": 17,
   "id": "f093d2e9-1eaa-442f-8a28-fa3273949aa7",
   "metadata": {},
   "outputs": [],
   "source": [
    "model.compile(\n",
    "    optimizer=tf.keras.optimizers.Adam(),\n",
    "    loss=tf.keras.losses.SparseCategoricalCrossentropy(),\n",
    "    metrics=[\"accuracy\"]\n",
    ")"
   ]
  },
  {
   "cell_type": "code",
   "execution_count": 47,
   "id": "cfd4af0f-01f6-4cc1-b42c-b8eb85b4d8f5",
   "metadata": {},
   "outputs": [
    {
     "name": "stdout",
     "output_type": "stream",
     "text": [
      "Model: \"sequential\"\n",
      "_________________________________________________________________\n",
      " Layer (type)                Output Shape              Param #   \n",
      "=================================================================\n",
      " embedding (Embedding)       (None, 50, 32)            320000    \n",
      "                                                                 \n",
      " bidirectional (Bidirection  (None, 50, 40)            8480      \n",
      " al)                                                             \n",
      "                                                                 \n",
      " bidirectional_1 (Bidirecti  (None, 40)                9760      \n",
      " onal)                                                           \n",
      "                                                                 \n",
      " dense (Dense)               (None, 6)                 246       \n",
      "                                                                 \n",
      "=================================================================\n",
      "Total params: 338486 (1.29 MB)\n",
      "Trainable params: 338486 (1.29 MB)\n",
      "Non-trainable params: 0 (0.00 Byte)\n",
      "_________________________________________________________________\n"
     ]
    }
   ],
   "source": [
    "model.summary()"
   ]
  },
  {
   "cell_type": "markdown",
   "id": "50f8bbed-c886-4246-aec8-820dcd6a3af6",
   "metadata": {},
   "source": [
    "# Visualization Functions"
   ]
  },
  {
   "cell_type": "code",
   "execution_count": 18,
   "id": "f01a334a-46e2-42b4-9101-8d29aace4cbd",
   "metadata": {},
   "outputs": [],
   "source": [
    "def plot_training_history(history):\n",
    "    # Plot training & validation accuracy values\n",
    "    plt.plot(history.history['accuracy'])\n",
    "    plt.plot(history.history['val_accuracy'])\n",
    "    plt.title('Model Accuracy')\n",
    "    plt.xlabel('Epoch')\n",
    "    plt.ylabel('Accuracy')\n",
    "    plt.legend(['Train', 'Validation'], loc='lower right')\n",
    "    plt.show()\n",
    "\n",
    "    # Plot training & validation loss values\n",
    "    plt.plot(history.history['loss'])\n",
    "    plt.plot(history.history['val_loss'])\n",
    "    plt.title('Model Loss')\n",
    "    plt.xlabel('Epoch')\n",
    "    plt.ylabel('Loss')\n",
    "    plt.legend(['Train', 'Validation'], loc='upper right')\n",
    "    plt.show()"
   ]
  },
  {
   "cell_type": "code",
   "execution_count": 19,
   "id": "98dd08f4-53c2-4ea1-b6db-750650505d70",
   "metadata": {},
   "outputs": [],
   "source": [
    "from sklearn.metrics import confusion_matrix\n",
    "\n",
    "def show_confusion_matrix(true_labels, preds, classes):\n",
    "    # Create the confusion matrix\n",
    "    cm = confusion_matrix(true_labels, preds, normalize=\"true\")\n",
    "    \n",
    "    plt.figure(figsize=(8, 8))\n",
    "\n",
    "    sp = plt.subplot(1, 1, 1)\n",
    "    ctx = sp.matshow(cm)\n",
    "\n",
    "    plt.xticks( range(0, 6), labels=classes )\n",
    "    plt.yticks( range(0, 6), labels=classes )\n",
    "\n",
    "    plt.colorbar(ctx)\n",
    "    plt.show()\n"
   ]
  },
  {
   "cell_type": "markdown",
   "id": "3b7bb550-baf9-416d-a6bd-6a1c7f0ccdde",
   "metadata": {},
   "source": [
    "# Training The Model"
   ]
  },
  {
   "cell_type": "code",
   "execution_count": 20,
   "id": "29035764-a104-4e32-878b-7de26dcfaf1f",
   "metadata": {},
   "outputs": [
    {
     "name": "stdout",
     "output_type": "stream",
     "text": [
      "Epoch 1/20\n",
      "500/500 [==============================] - 40s 54ms/step - loss: 1.3305 - accuracy: 0.4562 - val_loss: 0.7966 - val_accuracy: 0.7135\n",
      "Epoch 2/20\n",
      "500/500 [==============================] - 26s 52ms/step - loss: 0.5292 - accuracy: 0.8209 - val_loss: 0.5145 - val_accuracy: 0.8295\n",
      "Epoch 3/20\n",
      "500/500 [==============================] - 24s 48ms/step - loss: 0.2975 - accuracy: 0.8996 - val_loss: 0.4084 - val_accuracy: 0.8580\n",
      "Epoch 4/20\n",
      "500/500 [==============================] - 24s 48ms/step - loss: 0.2008 - accuracy: 0.9318 - val_loss: 0.3574 - val_accuracy: 0.8855\n",
      "Epoch 5/20\n",
      "500/500 [==============================] - 24s 47ms/step - loss: 0.1555 - accuracy: 0.9488 - val_loss: 0.3632 - val_accuracy: 0.8900\n",
      "Epoch 6/20\n",
      "500/500 [==============================] - 24s 48ms/step - loss: 0.1088 - accuracy: 0.9639 - val_loss: 0.3614 - val_accuracy: 0.8960\n",
      "Epoch 7/20\n",
      "500/500 [==============================] - 25s 50ms/step - loss: 0.0798 - accuracy: 0.9746 - val_loss: 0.3783 - val_accuracy: 0.8995\n",
      "Epoch 8/20\n",
      "500/500 [==============================] - 26s 51ms/step - loss: 0.0762 - accuracy: 0.9747 - val_loss: 0.3622 - val_accuracy: 0.8975\n",
      "Epoch 9/20\n",
      "500/500 [==============================] - 28s 57ms/step - loss: 0.0494 - accuracy: 0.9841 - val_loss: 0.3743 - val_accuracy: 0.9020\n",
      "Epoch 10/20\n",
      "500/500 [==============================] - 25s 51ms/step - loss: 0.0451 - accuracy: 0.9848 - val_loss: 0.3658 - val_accuracy: 0.9065\n",
      "Epoch 11/20\n",
      "500/500 [==============================] - 23s 46ms/step - loss: 0.0401 - accuracy: 0.9862 - val_loss: 0.4179 - val_accuracy: 0.8980\n",
      "Epoch 12/20\n",
      "500/500 [==============================] - 25s 49ms/step - loss: 0.0427 - accuracy: 0.9850 - val_loss: 0.4171 - val_accuracy: 0.8955\n"
     ]
    }
   ],
   "source": [
    "history = model.fit(\n",
    "    train_seq, train_df[\"Label\"],\n",
    "    validation_data=(val_seq, val_df[\"Label\"]),\n",
    "    epochs=20,\n",
    "    callbacks=tf.keras.callbacks.EarlyStopping(monitor=\"val_accuracy\", patience=2)\n",
    ")"
   ]
  },
  {
   "cell_type": "code",
   "execution_count": 21,
   "id": "44fff3df-65af-49db-abd1-a4c1c550ca01",
   "metadata": {},
   "outputs": [
    {
     "data": {
      "image/png": "[encoded data removed]",
      "text/plain": [
       "<Figure size 640x480 with 1 Axes>"
      ]
     },
     "metadata": {},
     "output_type": "display_data"
    },
    {
     "data": {
      "image/png": "[encoded data removed]",
      "text/plain": [
       "<Figure size 640x480 with 1 Axes>"
      ]
     },
     "metadata": {},
     "output_type": "display_data"
    }
   ],
   "source": [
    "plot_training_history(history)"
   ]
  },
  {
   "cell_type": "markdown",
   "id": "b8413637-5383-4da9-8939-613d0b87b1bc",
   "metadata": {},
   "source": [
    "# Saving The Model"
   ]
  },
  {
   "cell_type": "code",
   "execution_count": 22,
   "id": "1e499489-edc1-49cc-abd9-1884689b44f8",
   "metadata": {},
   "outputs": [],
   "source": [
    "# Save the weights\n",
    "model.save_weights('./model/model')"
   ]
  },
  {
   "cell_type": "markdown",
   "id": "41665745-8972-4962-8038-2732cb2af5b0",
   "metadata": {},
   "source": [
    "# Evaluating The Model On Test Data"
   ]
  },
  {
   "cell_type": "code",
   "execution_count": 23,
   "id": "2a203bd4-ab6d-4960-92b8-24788383a825",
   "metadata": {},
   "outputs": [
    {
     "name": "stdout",
     "output_type": "stream",
     "text": [
      "63/63 [==============================] - 1s 20ms/step - loss: 0.4399 - accuracy: 0.8860\n",
      "Accuracy: 0.89, Loss: 0.44\n"
     ]
    }
   ],
   "source": [
    "loss, accuracy = model.evaluate(test_seq, test_df[\"Label\"])\n",
    "\n",
    "print(f\"Accuracy: {accuracy:.2f}, Loss: {loss:.2f}\")"
   ]
  },
  {
   "cell_type": "code",
   "execution_count": 24,
   "id": "a5695c5b-35b3-46b0-a0ba-b7631c9d5b75",
   "metadata": {},
   "outputs": [
    {
     "name": "stdout",
     "output_type": "stream",
     "text": [
      "63/63 [==============================] - 5s 20ms/step\n"
     ]
    },
    {
     "data": {
      "image/png": "[encoded data removed]",
      "text/plain": [
       "<Figure size 800x800 with 2 Axes>"
      ]
     },
     "metadata": {},
     "output_type": "display_data"
    }
   ],
   "source": [
    "preds = np.array( model.predict(test_seq) ).argmax(axis=-1)\n",
    "\n",
    "show_confusion_matrix(np.array(test_df[\"Label\"]), preds, list(set(train_df[\"Emotion\"])))"
   ]
  },
  {
   "cell_type": "markdown",
   "id": "e7bf8f13-8edf-4b01-9aa8-aac1e051b209",
   "metadata": {},
   "source": [
    "# Evaluating The Model On Custom Data"
   ]
  },
  {
   "cell_type": "code",
   "execution_count": 148,
   "id": "400b8734-c20a-4ced-8ed0-5d2c5be5596f",
   "metadata": {},
   "outputs": [
    {
     "name": "stdout",
     "output_type": "stream",
     "text": [
      "1/1 [==============================] - 0s 47ms/step\n",
      "Joy         : 40.43%\n",
      "Surprise    : 21.33%\n",
      "Love        : 18.25%\n",
      "Sadness     : 7.51%\n",
      "Fear        : 6.27%\n",
      "Anger       : 6.21%\n"
     ]
    }
   ],
   "source": [
    "text = \"i am the happiest man alive\"\n",
    "\n",
    "preds = model.predict( get_sequence(tokenizer, [text]) ).reshape(-1,)\n",
    "\n",
    "emotion_prob = list(zip(emotion_to_num.keys(), preds.tolist()))\n",
    "sorted_preds = sorted( preds.tolist(), reverse=True )\n",
    "\n",
    "for pred in sorted_preds:\n",
    "    for emotion, prob in emotion_prob:\n",
    "        if prob == pred:\n",
    "            spaces = \"\".join([\" \" for i in range(10 - len(emotion))])\n",
    "            print(emotion.capitalize(), spaces, \":\", str(round(prob*100, 2))+\"%\")"
   ]
  }
 ],
 "metadata": {
  "kernelspec": {
   "display_name": "MachineLearning",
   "language": "python",
   "name": "machinelearning"
  },
  "language_info": {
   "codemirror_mode": {
    "name": "ipython",
    "version": 3
   },
   "file_extension": ".py",
   "mimetype": "text/x-python",
   "name": "python",
   "nbconvert_exporter": "python",
   "pygments_lexer": "ipython3",
   "version": "3.11.3"
  }
 },
 "nbformat": 4,
 "nbformat_minor": 5
}
