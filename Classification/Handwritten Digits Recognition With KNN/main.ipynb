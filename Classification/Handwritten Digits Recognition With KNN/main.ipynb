{
 "cells": [
  {
   "cell_type": "code",
   "execution_count": 23,
   "id": "3f6c95fa-7c17-4ee0-b651-38369f0ebe1f",
   "metadata": {},
   "outputs": [],
   "source": [
    "import tensorflow as tf\n",
    "import pandas as pd \n",
    "import cv2\n",
    "import numpy as np\n",
    "from matplotlib import pyplot as plt"
   ]
  },
  {
   "cell_type": "markdown",
   "id": "2e4a2b0a-bcb2-4f3c-a923-915faef7cc4b",
   "metadata": {},
   "source": [
    "# Getting data"
   ]
  },
  {
   "cell_type": "code",
   "execution_count": 2,
   "id": "d125d8c5-6293-4fc0-8281-ac0cd8e7ae5a",
   "metadata": {},
   "outputs": [],
   "source": [
    "(X_train, y_train), (X_test, y_test) = tf.keras.datasets.mnist.load_data()"
   ]
  },
  {
   "cell_type": "markdown",
   "id": "51d116d3-d1ec-44d8-9b95-ae88720aab85",
   "metadata": {},
   "source": [
    "# Scaling data"
   ]
  },
  {
   "cell_type": "code",
   "execution_count": 3,
   "id": "0230cf45-588b-486a-b909-d915a90f4475",
   "metadata": {},
   "outputs": [],
   "source": [
    "X_train = tf.keras.utils.normalize(X_train, axis=1)\n",
    "X_test = tf.keras.utils.normalize(X_test, axis=1)"
   ]
  },
  {
   "cell_type": "markdown",
   "id": "d963a324-4477-41a9-965e-8729fbf195dd",
   "metadata": {},
   "source": [
    "# Transforming & flattening data into data frame"
   ]
  },
  {
   "cell_type": "code",
   "execution_count": 4,
   "id": "4e25b430-b323-4161-9244-b645f2c6e32c",
   "metadata": {},
   "outputs": [],
   "source": [
    "df_train = pd.DataFrame( X_train.reshape(-1, 28*28), columns=[f\"px{i}\" for i in range(28 * 28)] )\n",
    "df_train['y'] = y_train"
   ]
  },
  {
   "cell_type": "code",
   "execution_count": 5,
   "id": "92adc4d3-9ab4-427c-be4d-beba89c76c05",
   "metadata": {},
   "outputs": [],
   "source": [
    "X_train, y_train = df_train.drop('y', axis=1), df_train['y']"
   ]
  },
  {
   "cell_type": "code",
   "execution_count": 6,
   "id": "a4532987-ac8b-41f0-a159-dde689a001f4",
   "metadata": {},
   "outputs": [],
   "source": [
    "df_test = pd.DataFrame( X_test.reshape(-1, 28*28), columns=[f\"px{i}\" for i in range(28 * 28)] )\n",
    "df_test['y'] = y_test"
   ]
  },
  {
   "cell_type": "code",
   "execution_count": 7,
   "id": "8db7edd5-616a-4b99-adde-a780c7689d10",
   "metadata": {},
   "outputs": [],
   "source": [
    "X_test, y_test = df_test.drop('y', axis=1), df_test['y']"
   ]
  },
  {
   "cell_type": "markdown",
   "id": "9c5f4609-5916-464f-8b02-7dd523dd6d79",
   "metadata": {},
   "source": [
    "# Fitting the KNN"
   ]
  },
  {
   "cell_type": "code",
   "execution_count": 8,
   "id": "8e8c7cc0-3866-421e-8b4a-45308b21cfa4",
   "metadata": {},
   "outputs": [
    {
     "data": {
      "text/html": [
       "<style>#sk-container-id-1 {color: black;background-color: white;}#sk-container-id-1 pre{padding: 0;}#sk-container-id-1 div.sk-toggleable {background-color: white;}#sk-container-id-1 label.sk-toggleable__label {cursor: pointer;display: block;width: 100%;margin-bottom: 0;padding: 0.3em;box-sizing: border-box;text-align: center;}#sk-container-id-1 label.sk-toggleable__label-arrow:before {content: \"▸\";float: left;margin-right: 0.25em;color: #696969;}#sk-container-id-1 label.sk-toggleable__label-arrow:hover:before {color: black;}#sk-container-id-1 div.sk-estimator:hover label.sk-toggleable__label-arrow:before {color: black;}#sk-container-id-1 div.sk-toggleable__content {max-height: 0;max-width: 0;overflow: hidden;text-align: left;background-color: #f0f8ff;}#sk-container-id-1 div.sk-toggleable__content pre {margin: 0.2em;color: black;border-radius: 0.25em;background-color: #f0f8ff;}#sk-container-id-1 input.sk-toggleable__control:checked~div.sk-toggleable__content {max-height: 200px;max-width: 100%;overflow: auto;}#sk-container-id-1 input.sk-toggleable__control:checked~label.sk-toggleable__label-arrow:before {content: \"▾\";}#sk-container-id-1 div.sk-estimator input.sk-toggleable__control:checked~label.sk-toggleable__label {background-color: #d4ebff;}#sk-container-id-1 div.sk-label input.sk-toggleable__control:checked~label.sk-toggleable__label {background-color: #d4ebff;}#sk-container-id-1 input.sk-hidden--visually {border: 0;clip: rect(1px 1px 1px 1px);clip: rect(1px, 1px, 1px, 1px);height: 1px;margin: -1px;overflow: hidden;padding: 0;position: absolute;width: 1px;}#sk-container-id-1 div.sk-estimator {font-family: monospace;background-color: #f0f8ff;border: 1px dotted black;border-radius: 0.25em;box-sizing: border-box;margin-bottom: 0.5em;}#sk-container-id-1 div.sk-estimator:hover {background-color: #d4ebff;}#sk-container-id-1 div.sk-parallel-item::after {content: \"\";width: 100%;border-bottom: 1px solid gray;flex-grow: 1;}#sk-container-id-1 div.sk-label:hover label.sk-toggleable__label {background-color: #d4ebff;}#sk-container-id-1 div.sk-serial::before {content: \"\";position: absolute;border-left: 1px solid gray;box-sizing: border-box;top: 0;bottom: 0;left: 50%;z-index: 0;}#sk-container-id-1 div.sk-serial {display: flex;flex-direction: column;align-items: center;background-color: white;padding-right: 0.2em;padding-left: 0.2em;position: relative;}#sk-container-id-1 div.sk-item {position: relative;z-index: 1;}#sk-container-id-1 div.sk-parallel {display: flex;align-items: stretch;justify-content: center;background-color: white;position: relative;}#sk-container-id-1 div.sk-item::before, #sk-container-id-1 div.sk-parallel-item::before {content: \"\";position: absolute;border-left: 1px solid gray;box-sizing: border-box;top: 0;bottom: 0;left: 50%;z-index: -1;}#sk-container-id-1 div.sk-parallel-item {display: flex;flex-direction: column;z-index: 1;position: relative;background-color: white;}#sk-container-id-1 div.sk-parallel-item:first-child::after {align-self: flex-end;width: 50%;}#sk-container-id-1 div.sk-parallel-item:last-child::after {align-self: flex-start;width: 50%;}#sk-container-id-1 div.sk-parallel-item:only-child::after {width: 0;}#sk-container-id-1 div.sk-dashed-wrapped {border: 1px dashed gray;margin: 0 0.4em 0.5em 0.4em;box-sizing: border-box;padding-bottom: 0.4em;background-color: white;}#sk-container-id-1 div.sk-label label {font-family: monospace;font-weight: bold;display: inline-block;line-height: 1.2em;}#sk-container-id-1 div.sk-label-container {text-align: center;}#sk-container-id-1 div.sk-container {/* jupyter's `normalize.less` sets `[hidden] { display: none; }` but bootstrap.min.css set `[hidden] { display: none !important; }` so we also need the `!important` here to be able to override the default hidden behavior on the sphinx rendered scikit-learn.org. See: https://github.com/scikit-learn/scikit-learn/issues/21755 */display: inline-block !important;position: relative;}#sk-container-id-1 div.sk-text-repr-fallback {display: none;}</style><div id=\"sk-container-id-1\" class=\"sk-top-container\"><div class=\"sk-text-repr-fallback\"><pre>KNeighborsClassifier(n_jobs=-1, n_neighbors=9)</pre><b>In a Jupyter environment, please rerun this cell to show the HTML representation or trust the notebook. <br />On GitHub, the HTML representation is unable to render, please try loading this page with nbviewer.org.</b></div><div class=\"sk-container\" hidden><div class=\"sk-item\"><div class=\"sk-estimator sk-toggleable\"><input class=\"sk-toggleable__control sk-hidden--visually\" id=\"sk-estimator-id-1\" type=\"checkbox\" checked><label for=\"sk-estimator-id-1\" class=\"sk-toggleable__label sk-toggleable__label-arrow\">KNeighborsClassifier</label><div class=\"sk-toggleable__content\"><pre>KNeighborsClassifier(n_jobs=-1, n_neighbors=9)</pre></div></div></div></div></div>"
      ],
      "text/plain": [
       "KNeighborsClassifier(n_jobs=-1, n_neighbors=9)"
      ]
     },
     "execution_count": 8,
     "metadata": {},
     "output_type": "execute_result"
    }
   ],
   "source": [
    "from sklearn.neighbors import KNeighborsClassifier\n",
    "\n",
    "knn = KNeighborsClassifier(n_neighbors=9, n_jobs=-1)\n",
    "\n",
    "knn.fit( X_train, y_train )"
   ]
  },
  {
   "cell_type": "markdown",
   "id": "41b5a093-959a-4f70-a602-93ec69b75860",
   "metadata": {},
   "source": [
    "# Scoring the KNN"
   ]
  },
  {
   "cell_type": "code",
   "execution_count": 9,
   "id": "9e998e69-e59f-488c-989b-d8866dc1487e",
   "metadata": {},
   "outputs": [
    {
     "data": {
      "text/plain": [
       "0.9668666666666667"
      ]
     },
     "execution_count": 9,
     "metadata": {},
     "output_type": "execute_result"
    }
   ],
   "source": [
    "knn.score(X_train, y_train)"
   ]
  },
  {
   "cell_type": "code",
   "execution_count": 10,
   "id": "0555623a-5422-45d0-af50-429d3c69edb8",
   "metadata": {},
   "outputs": [
    {
     "data": {
      "text/plain": [
       "0.9579"
      ]
     },
     "execution_count": 10,
     "metadata": {},
     "output_type": "execute_result"
    }
   ],
   "source": [
    "knn.score(X_test, y_test)"
   ]
  },
  {
   "cell_type": "markdown",
   "id": "aeb69a62-c234-487e-9c49-19b8d49b03ad",
   "metadata": {},
   "source": [
    "# Trying the KNN on self made examples"
   ]
  },
  {
   "cell_type": "code",
   "execution_count": 11,
   "id": "aa98d72b-aee6-40e6-834a-cafb69272582",
   "metadata": {},
   "outputs": [
    {
     "name": "stdout",
     "output_type": "stream",
     "text": [
      "Right answer is 0, and the predicted answer is 1\n",
      "Right answer is 1, and the predicted answer is 1\n",
      "Right answer is 2, and the predicted answer is 8\n",
      "Right answer is 3, and the predicted answer is 1\n",
      "Right answer is 4, and the predicted answer is 1\n",
      "Right answer is 5, and the predicted answer is 3\n",
      "Right answer is 6, and the predicted answer is 9\n",
      "Right answer is 7, and the predicted answer is 1\n",
      "Right answer is 8, and the predicted answer is 8\n",
      "Right answer is 9, and the predicted answer is 0\n"
     ]
    }
   ],
   "source": [
    "right_ans = 0\n",
    "\n",
    "for i in range(10):\n",
    "    img = cv2.imread(f\"./Digits/digit{i}.png\")[:,:,0]\n",
    "    img = np.invert(np.array([img]))\n",
    "    img = tf.keras.utils.normalize(img)\n",
    "    prediction = knn.predict( pd.DataFrame( img.reshape(28 * 28).reshape(1, -1), columns=[f\"px{i}\" for i in range(28 * 28)] ))\n",
    "    \n",
    "    print(f\"Right answer is {i}, and the predicted answer is {prediction[0]}\")\n",
    "\n",
    "    if i == np.argmax(prediction):\n",
    "        right_ans += 1"
   ]
  },
  {
   "cell_type": "code",
   "execution_count": 62,
   "id": "b69dedd9-42a5-4f07-8e04-9125c2290471",
   "metadata": {
    "scrolled": true
   },
   "outputs": [
    {
     "data": {
      "image/png": "[encoded data removed]",
      "text/plain": [
       "<Figure size 640x480 with 1 Axes>"
      ]
     },
     "metadata": {},
     "output_type": "display_data"
    },
    {
     "name": "stdout",
     "output_type": "stream",
     "text": [
      "This is probably a 2\n",
      "(784,)\n"
     ]
    },
    {
     "name": "stderr",
     "output_type": "stream",
     "text": [
      "C:\\Users\\HP\\AppData\\Local\\Programs\\Python\\Python311\\Lib\\site-packages\\sklearn\\base.py:439: UserWarning: X does not have valid feature names, but KNeighborsClassifier was fitted with feature names\n",
      "  warnings.warn(\n"
     ]
    }
   ],
   "source": [
    "arr = np.array(X_train.iloc[2693])\n",
    "\n",
    "plt.imshow(arr.reshape(28, 28), cmap=\"gray\")\n",
    "plt.show()\n",
    "\n",
    "print( \"This is probably a\", knn.predict(arr.reshape(1, -1))[0] )\n",
    "print(arr.shape)"
   ]
  }
 ],
 "metadata": {
  "kernelspec": {
   "display_name": "Python 3 (ipykernel)",
   "language": "python",
   "name": "python3"
  },
  "language_info": {
   "codemirror_mode": {
    "name": "ipython",
    "version": 3
   },
   "file_extension": ".py",
   "mimetype": "text/x-python",
   "name": "python",
   "nbconvert_exporter": "python",
   "pygments_lexer": "ipython3",
   "version": "3.11.3"
  }
 },
 "nbformat": 4,
 "nbformat_minor": 5
}
