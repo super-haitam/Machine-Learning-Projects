{
 "cells": [
  {
   "cell_type": "code",
   "execution_count": 2,
   "id": "3f6c95fa-7c17-4ee0-b651-38369f0ebe1f",
   "metadata": {},
   "outputs": [],
   "source": [
    "import tensorflow as tf\n",
    "import pandas as pd \n",
    "import cv2\n",
    "import numpy as np\n",
    "from matplotlib import pyplot as plt"
   ]
  },
  {
   "cell_type": "markdown",
   "id": "2e4a2b0a-bcb2-4f3c-a923-915faef7cc4b",
   "metadata": {},
   "source": [
    "# Getting data"
   ]
  },
  {
   "cell_type": "code",
   "execution_count": 3,
   "id": "d125d8c5-6293-4fc0-8281-ac0cd8e7ae5a",
   "metadata": {},
   "outputs": [],
   "source": [
    "(X_train, y_train), (X_test, y_test) = tf.keras.datasets.mnist.load_data()"
   ]
  },
  {
   "cell_type": "code",
   "execution_count": 4,
   "id": "2cb8d729-f6a1-4698-ac55-3aa78fd1d33f",
   "metadata": {},
   "outputs": [
    {
     "data": {
      "text/plain": [
       "(60000, 28, 28)"
      ]
     },
     "execution_count": 4,
     "metadata": {},
     "output_type": "execute_result"
    }
   ],
   "source": [
    "X_train.shape"
   ]
  },
  {
   "cell_type": "markdown",
   "id": "51d116d3-d1ec-44d8-9b95-ae88720aab85",
   "metadata": {},
   "source": [
    "# Scaling data"
   ]
  },
  {
   "cell_type": "code",
   "execution_count": 5,
   "id": "0230cf45-588b-486a-b909-d915a90f4475",
   "metadata": {},
   "outputs": [],
   "source": [
    "X_train = tf.keras.utils.normalize(X_train, axis=1)\n",
    "X_test = tf.keras.utils.normalize(X_test, axis=1)"
   ]
  },
  {
   "cell_type": "markdown",
   "id": "d963a324-4477-41a9-965e-8729fbf195dd",
   "metadata": {},
   "source": [
    "# Transforming & flattening data into data frame"
   ]
  },
  {
   "cell_type": "code",
   "execution_count": 6,
   "id": "4e25b430-b323-4161-9244-b645f2c6e32c",
   "metadata": {},
   "outputs": [],
   "source": [
    "df_train = pd.DataFrame( X_train.reshape(-1, 28*28), columns=[f\"px{i}\" for i in range(28 * 28)] )\n",
    "df_train['y'] = y_train"
   ]
  },
  {
   "cell_type": "code",
   "execution_count": 7,
   "id": "92adc4d3-9ab4-427c-be4d-beba89c76c05",
   "metadata": {},
   "outputs": [],
   "source": [
    "X_train, y_train = df_train.drop('y', axis=1), df_train['y']"
   ]
  },
  {
   "cell_type": "code",
   "execution_count": 8,
   "id": "a4532987-ac8b-41f0-a159-dde689a001f4",
   "metadata": {},
   "outputs": [],
   "source": [
    "df_test = pd.DataFrame( X_test.reshape(-1, 28*28), columns=[f\"px{i}\" for i in range(28 * 28)] )\n",
    "df_test['y'] = y_test"
   ]
  },
  {
   "cell_type": "code",
   "execution_count": 9,
   "id": "8db7edd5-616a-4b99-adde-a780c7689d10",
   "metadata": {},
   "outputs": [],
   "source": [
    "X_test, y_test = df_test.drop('y', axis=1), df_test['y']"
   ]
  },
  {
   "cell_type": "markdown",
   "id": "9c5f4609-5916-464f-8b02-7dd523dd6d79",
   "metadata": {},
   "source": [
    "# Fitting the K Means"
   ]
  },
  {
   "cell_type": "code",
   "execution_count": 19,
   "id": "8e8c7cc0-3866-421e-8b4a-45308b21cfa4",
   "metadata": {},
   "outputs": [
    {
     "data": {
      "text/html": [
       "<style>#sk-container-id-5 {color: black;background-color: white;}#sk-container-id-5 pre{padding: 0;}#sk-container-id-5 div.sk-toggleable {background-color: white;}#sk-container-id-5 label.sk-toggleable__label {cursor: pointer;display: block;width: 100%;margin-bottom: 0;padding: 0.3em;box-sizing: border-box;text-align: center;}#sk-container-id-5 label.sk-toggleable__label-arrow:before {content: \"▸\";float: left;margin-right: 0.25em;color: #696969;}#sk-container-id-5 label.sk-toggleable__label-arrow:hover:before {color: black;}#sk-container-id-5 div.sk-estimator:hover label.sk-toggleable__label-arrow:before {color: black;}#sk-container-id-5 div.sk-toggleable__content {max-height: 0;max-width: 0;overflow: hidden;text-align: left;background-color: #f0f8ff;}#sk-container-id-5 div.sk-toggleable__content pre {margin: 0.2em;color: black;border-radius: 0.25em;background-color: #f0f8ff;}#sk-container-id-5 input.sk-toggleable__control:checked~div.sk-toggleable__content {max-height: 200px;max-width: 100%;overflow: auto;}#sk-container-id-5 input.sk-toggleable__control:checked~label.sk-toggleable__label-arrow:before {content: \"▾\";}#sk-container-id-5 div.sk-estimator input.sk-toggleable__control:checked~label.sk-toggleable__label {background-color: #d4ebff;}#sk-container-id-5 div.sk-label input.sk-toggleable__control:checked~label.sk-toggleable__label {background-color: #d4ebff;}#sk-container-id-5 input.sk-hidden--visually {border: 0;clip: rect(1px 1px 1px 1px);clip: rect(1px, 1px, 1px, 1px);height: 1px;margin: -1px;overflow: hidden;padding: 0;position: absolute;width: 1px;}#sk-container-id-5 div.sk-estimator {font-family: monospace;background-color: #f0f8ff;border: 1px dotted black;border-radius: 0.25em;box-sizing: border-box;margin-bottom: 0.5em;}#sk-container-id-5 div.sk-estimator:hover {background-color: #d4ebff;}#sk-container-id-5 div.sk-parallel-item::after {content: \"\";width: 100%;border-bottom: 1px solid gray;flex-grow: 1;}#sk-container-id-5 div.sk-label:hover label.sk-toggleable__label {background-color: #d4ebff;}#sk-container-id-5 div.sk-serial::before {content: \"\";position: absolute;border-left: 1px solid gray;box-sizing: border-box;top: 0;bottom: 0;left: 50%;z-index: 0;}#sk-container-id-5 div.sk-serial {display: flex;flex-direction: column;align-items: center;background-color: white;padding-right: 0.2em;padding-left: 0.2em;position: relative;}#sk-container-id-5 div.sk-item {position: relative;z-index: 1;}#sk-container-id-5 div.sk-parallel {display: flex;align-items: stretch;justify-content: center;background-color: white;position: relative;}#sk-container-id-5 div.sk-item::before, #sk-container-id-5 div.sk-parallel-item::before {content: \"\";position: absolute;border-left: 1px solid gray;box-sizing: border-box;top: 0;bottom: 0;left: 50%;z-index: -1;}#sk-container-id-5 div.sk-parallel-item {display: flex;flex-direction: column;z-index: 1;position: relative;background-color: white;}#sk-container-id-5 div.sk-parallel-item:first-child::after {align-self: flex-end;width: 50%;}#sk-container-id-5 div.sk-parallel-item:last-child::after {align-self: flex-start;width: 50%;}#sk-container-id-5 div.sk-parallel-item:only-child::after {width: 0;}#sk-container-id-5 div.sk-dashed-wrapped {border: 1px dashed gray;margin: 0 0.4em 0.5em 0.4em;box-sizing: border-box;padding-bottom: 0.4em;background-color: white;}#sk-container-id-5 div.sk-label label {font-family: monospace;font-weight: bold;display: inline-block;line-height: 1.2em;}#sk-container-id-5 div.sk-label-container {text-align: center;}#sk-container-id-5 div.sk-container {/* jupyter's `normalize.less` sets `[hidden] { display: none; }` but bootstrap.min.css set `[hidden] { display: none !important; }` so we also need the `!important` here to be able to override the default hidden behavior on the sphinx rendered scikit-learn.org. See: https://github.com/scikit-learn/scikit-learn/issues/21755 */display: inline-block !important;position: relative;}#sk-container-id-5 div.sk-text-repr-fallback {display: none;}</style><div id=\"sk-container-id-5\" class=\"sk-top-container\"><div class=\"sk-text-repr-fallback\"><pre>KMeans(n_clusters=10, n_init=100)</pre><b>In a Jupyter environment, please rerun this cell to show the HTML representation or trust the notebook. <br />On GitHub, the HTML representation is unable to render, please try loading this page with nbviewer.org.</b></div><div class=\"sk-container\" hidden><div class=\"sk-item\"><div class=\"sk-estimator sk-toggleable\"><input class=\"sk-toggleable__control sk-hidden--visually\" id=\"sk-estimator-id-5\" type=\"checkbox\" checked><label for=\"sk-estimator-id-5\" class=\"sk-toggleable__label sk-toggleable__label-arrow\">KMeans</label><div class=\"sk-toggleable__content\"><pre>KMeans(n_clusters=10, n_init=100)</pre></div></div></div></div></div>"
      ],
      "text/plain": [
       "KMeans(n_clusters=10, n_init=100)"
      ]
     },
     "execution_count": 19,
     "metadata": {},
     "output_type": "execute_result"
    }
   ],
   "source": [
    "from sklearn.cluster import KMeans\n",
    "\n",
    "kmeans = KMeans(n_clusters=10, init=\"k-means++\", n_init=100)\n",
    "\n",
    "kmeans.fit( X_train )"
   ]
  },
  {
   "cell_type": "markdown",
   "id": "41b5a093-959a-4f70-a602-93ec69b75860",
   "metadata": {},
   "source": [
    "# Scoring the K Means"
   ]
  },
  {
   "cell_type": "code",
   "execution_count": 22,
   "id": "4cd4605b-f336-405a-8046-63688dcbd271",
   "metadata": {},
   "outputs": [
    {
     "name": "stdout",
     "output_type": "stream",
     "text": [
      "Adjusted Rand Index: 0.3922472450825891\n",
      "Normalized Mutual Information: 0.5176740543097533\n",
      "Fowlkes-Mallows Index: 0.4554319985571223\n"
     ]
    }
   ],
   "source": [
    "from sklearn.metrics import adjusted_rand_score, normalized_mutual_info_score, fowlkes_mallows_score\n",
    "\n",
    "predicted_labels = kmeans.predict(X_train)\n",
    "\n",
    "# Calculate clustering validation scores\n",
    "ari_score = adjusted_rand_score(y_train, predicted_labels)\n",
    "nmi_score = normalized_mutual_info_score(y_train, predicted_labels)\n",
    "fmi_score = fowlkes_mallows_score(y_train, predicted_labels)\n",
    "\n",
    "print(\"Adjusted Rand Index:\", ari_score)\n",
    "print(\"Normalized Mutual Information:\", nmi_score)\n",
    "print(\"Fowlkes-Mallows Index:\", fmi_score)"
   ]
  },
  {
   "cell_type": "code",
   "execution_count": 21,
   "id": "1d55210d-ce12-4370-9296-4fb3c473d5a8",
   "metadata": {},
   "outputs": [
    {
     "name": "stdout",
     "output_type": "stream",
     "text": [
      "Adjusted Rand Index: 0.40393953912270153\n",
      "Normalized Mutual Information: 0.5292296333518569\n",
      "Fowlkes-Mallows Index: 0.4658984808645735\n"
     ]
    }
   ],
   "source": [
    "from sklearn.metrics import adjusted_rand_score, normalized_mutual_info_score, fowlkes_mallows_score\n",
    "\n",
    "predicted_labels = kmeans.predict(X_test)\n",
    "\n",
    "# Calculate clustering validation scores\n",
    "ari_score = adjusted_rand_score(y_test, predicted_labels)\n",
    "nmi_score = normalized_mutual_info_score(y_test, predicted_labels)\n",
    "fmi_score = fowlkes_mallows_score(y_test, predicted_labels)\n",
    "\n",
    "print(\"Adjusted Rand Index:\", ari_score)\n",
    "print(\"Normalized Mutual Information:\", nmi_score)\n",
    "print(\"Fowlkes-Mallows Index:\", fmi_score)"
   ]
  }
 ],
 "metadata": {
  "kernelspec": {
   "display_name": "Python 3 (ipykernel)",
   "language": "python",
   "name": "python3"
  },
  "language_info": {
   "codemirror_mode": {
    "name": "ipython",
    "version": 3
   },
   "file_extension": ".py",
   "mimetype": "text/x-python",
   "name": "python",
   "nbconvert_exporter": "python",
   "pygments_lexer": "ipython3",
   "version": "3.11.3"
  }
 },
 "nbformat": 4,
 "nbformat_minor": 5
}
